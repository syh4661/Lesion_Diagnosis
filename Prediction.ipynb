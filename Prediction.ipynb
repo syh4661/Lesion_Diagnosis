{
 "cells": [
  {
   "cell_type": "code",
   "execution_count": 1,
   "metadata": {},
   "outputs": [
    {
     "name": "stderr",
     "output_type": "stream",
     "text": [
      "/home/wonjae/anaconda2/lib/python2.7/site-packages/h5py/__init__.py:36: FutureWarning: Conversion of the second argument of issubdtype from `float` to `np.floating` is deprecated. In future, it will be treated as `np.float64 == np.dtype(float).type`.\n",
      "  from ._conv import register_converters as _register_converters\n",
      "Using TensorFlow backend.\n"
     ]
    }
   ],
   "source": [
    "from keras import backend as K\n",
    "from model import *\n",
    "import numpy as np\n",
    "import cv2\n",
    "import os\n",
    "IMAGE_SIZE = 299\n",
    "\n",
    "# If you want to use a GPU set its index here\n",
    "os.environ['CUDA_VISIBLE_DEVICES'] = '1,2,3'\n",
    "\n",
    "\n",
    "# This function comes from Google's ImageNet Preprocessing Script\n",
    "def central_crop(image, central_fraction):\n",
    "    \"\"\"Crop the central region of the image.\n",
    "    Remove the outer parts of an image but retain the central region of the image\n",
    "    along each dimension. If we specify central_fraction = 0.5, this function\n",
    "    returns the region marked with \"X\" in the below diagram.\n",
    "       --------\n",
    "      |        |\n",
    "      |  XXXX  |\n",
    "      |  XXXX  |\n",
    "      |        |   where \"X\" is the central 50% of the image.\n",
    "       --------\n",
    "    Args:\n",
    "    image: 3-D array of shape [height, width, depth]\n",
    "    central_fraction: float (0, 1], fraction of size to crop\n",
    "    Raises:\n",
    "    ValueError: if central_crop_fraction is not within (0, 1].\n",
    "    Returns:\n",
    "    3-D array\n",
    "    \"\"\"\n",
    "    if central_fraction <= 0.0 or central_fraction > 1.0:\n",
    "        raise ValueError('central_fraction must be within (0, 1]')\n",
    "    if central_fraction == 1.0:\n",
    "        return image\n",
    "\n",
    "    img_shape = image.shape\n",
    "    depth = img_shape[2]\n",
    "    fraction_offset = int(1 / ((1 - central_fraction) / 2.0))\n",
    "    bbox_h_start = int(np.divide(img_shape[0], fraction_offset))\n",
    "    bbox_w_start = int(np.divide(img_shape[1], fraction_offset))\n",
    "\n",
    "    bbox_h_size = int(img_shape[0] - bbox_h_start * 2)\n",
    "    bbox_w_size = int(img_shape[1] - bbox_w_start * 2)\n",
    "\n",
    "    image = image[bbox_h_start:bbox_h_start+bbox_h_size, bbox_w_start:bbox_w_start+bbox_w_size]\n",
    "    return image\n",
    "\n",
    "\n",
    "def get_processed_image(img_path):\n",
    "    # Load image and convert from BGR to RGB\n",
    "    im = np.asarray(cv2.imread(img_path))[:,:,::-1]\n",
    "    im = central_crop(im, 0.875)\n",
    "    im = cv2.resize(im, (299, 299))\n",
    "#     im = preprocess_input(im)\n",
    "    if K.image_data_format() == \"channels_first\":\n",
    "        im = np.transpose(im, (2,0,1))\n",
    "        im = im.reshape(-1,3,299,299)\n",
    "    else:\n",
    "        im = im.reshape(-1,299,299,3)\n",
    "    return im\n",
    "\n"
   ]
  },
  {
   "cell_type": "code",
   "execution_count": 4,
   "metadata": {},
   "outputs": [],
   "source": [
    "import numpy as np\n",
    "import scipy.io as scio    \n",
    "import os,re\n",
    "from PIL import Image\n",
    "from scipy import ndimage\n",
    "from matplotlib import pyplot as plt"
   ]
  },
  {
   "cell_type": "code",
   "execution_count": 5,
   "metadata": {},
   "outputs": [],
   "source": [
    "import os\n",
    "#os.environ[\"CUDA_DEVICE_ORDER\"] = \"PCI_BUS_ID\"   # see issue #152\n",
    "os.environ[\"CUDA_VISIBLE_DEVICES\"]=\"1,2,3\""
   ]
  },
  {
   "cell_type": "code",
   "execution_count": 6,
   "metadata": {},
   "outputs": [],
   "source": [
    "def atoi(text) : \n",
    "    return int(text) if text.isdigit() else text"
   ]
  },
  {
   "cell_type": "code",
   "execution_count": 7,
   "metadata": {},
   "outputs": [],
   "source": [
    "def natural_keys(text) :\n",
    "    return [atoi(c) for c in re.split('(\\d+)', text)]"
   ]
  },
  {
   "cell_type": "code",
   "execution_count": 8,
   "metadata": {},
   "outputs": [],
   "source": [
    "def get_filenames(path):\n",
    "    filenames = []\n",
    "    for root, dirnames, filenames in os.walk(path):\n",
    "        print(\"---root----\")\n",
    "        print(root)\n",
    "        print(\"----dirnames---\")\n",
    "        print(dirnames)\n",
    "        print(\"----filenames---\")\n",
    "        print(filenames)\n",
    "#         filenames.sort(key = natural_keys)\n",
    "        rootpath = root\n",
    "        return filenames\n",
    "    print(len(filenames))\n",
    "    return filenames"
   ]
  },
  {
   "cell_type": "code",
   "execution_count": 9,
   "metadata": {},
   "outputs": [],
   "source": [
    "root_path = \"/home/wonjae/YongHyeok/Classification_TASK3/dataset/ISIC2018_Task3_Validation_Input/\""
   ]
  },
  {
   "cell_type": "code",
   "execution_count": 21,
   "metadata": {},
   "outputs": [
    {
     "name": "stdout",
     "output_type": "stream",
     "text": [
      "---root----\n",
      "/home/wonjae/YongHyeok/Classification_TASK3/dataset/ISIC2018_Task3_Validation_Input/\n",
      "----dirnames---\n",
      "['.ipynb_checkpoints', 'Untitled Folder']\n",
      "----filenames---\n",
      "['ISIC_0034467.jpg', 'ISIC_0034514.jpg', 'ISIC_0034474.jpg', 'ISIC_0034502.jpg', 'ISIC_0034444.jpg', 'ISIC_0034491.jpg', 'ISIC_0034426.jpg', 'ISIC_0034394.jpg', 'ISIC_0034403.jpg', 'ISIC_0034349.jpg', 'ISIC_0034463.jpg', 'ISIC_0034430.jpg', 'ISIC_0034382.jpg', 'ISIC_0034480.jpg', 'ISIC_0034350.jpg', 'ISIC_0034517.jpg', 'ISIC_0034375.jpg', 'ISIC_0034464.jpg', 'ISIC_0034520.jpg', 'ISIC_0034354.jpg', 'ISIC_0034508.jpg', 'ISIC_0034475.jpg', 'ISIC_0034455.jpg', 'ISIC_0034356.jpg', 'ISIC_0034499.jpg', 'ISIC_0034451.jpg', 'ISIC_0034519.jpg', 'ISIC_0034483.jpg', 'ISIC_0034460.jpg', 'ISIC_0034471.jpg', 'ISIC_0034362.jpg', 'ISIC_0034484.jpg', 'ISIC_0034436.jpg', 'ISIC_0034410.jpg', 'ISIC_0034325.jpg', 'ISIC_0034366.jpg', 'ISIC_0034381.jpg', 'ISIC_0034359.jpg', 'ISIC_0034361.jpg', 'ISIC_0034369.jpg', 'ISIC_0034493.jpg', 'ISIC_0034472.jpg', 'ISIC_0034347.jpg', 'ISIC_0034452.jpg', 'ISIC_0034371.jpg', 'ISIC_0034406.jpg', 'ISIC_0034434.jpg', 'ISIC_0034396.jpg', 'ISIC_0034402.jpg', 'ISIC_0034376.jpg', 'ISIC_0034391.jpg', 'ISIC_0034416.jpg', 'ISIC_0034340.jpg', 'ISIC_0034336.jpg', 'ISIC_0034395.jpg', 'ISIC_0034492.jpg', 'ISIC_0034453.jpg', 'ISIC_0034411.jpg', 'ISIC_0034355.jpg', 'ISIC_0034386.jpg', 'ISIC_0034445.jpg', 'ISIC_0034486.jpg', 'ISIC_0034341.jpg', 'ISIC_0034398.jpg', 'ISIC_0034469.jpg', 'ISIC_0034506.jpg', 'ISIC_0034442.jpg', 'ISIC_0034370.jpg', 'ISIC_0034338.jpg', 'ISIC_0034523.jpg', 'ISIC_0034390.jpg', 'ISIC_0034352.jpg', 'ISIC_0034363.jpg', 'ISIC_0034321.jpg', 'ISIC_0034488.jpg', 'ISIC_0034372.jpg', 'ISIC_0034322.jpg', 'ISIC_0034401.jpg', 'ISIC_0034431.jpg', 'ISIC_0034446.jpg', 'ISIC_0034458.jpg', 'ISIC_0034490.jpg', 'ISIC_0034513.jpg', 'ISIC_0034408.jpg', 'ISIC_0034392.jpg', 'ISIC_0034368.jpg', 'ISIC_0034439.jpg', 'ISIC_0034429.jpg', 'ISIC_0034365.jpg', 'ISIC_0034503.jpg', 'ISIC_0034407.jpg', 'ISIC_0034447.jpg', 'ISIC_0034343.jpg', 'ISIC_0034435.jpg', 'ISIC_0034389.jpg', 'ISIC_0034427.jpg', 'ISIC_0034482.jpg', 'ISIC_0034397.jpg', 'ISIC_0034518.jpg', 'ISIC_0034422.jpg', 'ISIC_0034405.jpg', 'ISIC_0034454.jpg', 'ISIC_0034333.jpg', 'ISIC_0034342.jpg', 'ISIC_0034387.jpg', 'ISIC_0034433.jpg', 'ISIC_0034511.jpg', 'ISIC_0034385.jpg', 'ISIC_0034367.jpg', 'ISIC_0034329.jpg', 'ISIC_0034345.jpg', 'ISIC_0034357.jpg', 'ISIC_0034328.jpg', 'ISIC_0034494.jpg', 'ISIC_0034424.jpg', 'ISIC_0034399.jpg', 'ISIC_0034383.jpg', 'ISIC_0034418.jpg', 'ISIC_0034478.jpg', 'ISIC_0034441.jpg', 'ISIC_0034516.jpg', 'ISIC_0034344.jpg', 'ISIC_0034466.jpg', 'ISIC_0034348.jpg', 'ISIC_0034505.jpg', 'ISIC_0034421.jpg', 'ISIC_0034461.jpg', 'ISIC_0034425.jpg', 'ISIC_0034360.jpg', 'ISIC_0034437.jpg', 'ISIC_0034497.jpg', 'ISIC_0034465.jpg', 'ISIC_0034512.jpg', 'ISIC_0034428.jpg', 'ISIC_0034481.jpg', 'ISIC_0034438.jpg', 'ISIC_0034337.jpg', 'ISIC_0034346.jpg', 'ISIC_0034477.jpg', 'ISIC_0034323.jpg', 'ISIC_0034521.jpg', 'ISIC_0034423.jpg', 'ISIC_0034413.jpg', 'ISIC_0034414.jpg', 'ISIC_0034485.jpg', 'ISIC_0034378.jpg', 'ISIC_0034449.jpg', 'ISIC_0034487.jpg', 'ISIC_0034515.jpg', 'ISIC_0034440.jpg', 'ISIC_0034415.jpg', 'ISIC_0034331.jpg', 'ISIC_0034374.jpg', 'ISIC_0034510.jpg', 'ISIC_0034498.jpg', 'ISIC_0034489.jpg', 'ISIC_0034509.jpg', 'ISIC_0034500.jpg', 'ISIC_0034468.jpg', 'ISIC_0034393.jpg', 'ISIC_0034339.jpg', 'ISIC_0034417.jpg', 'ISIC_0034412.jpg', 'ISIC_0034522.jpg', 'ISIC_0034450.jpg', 'ISIC_0034443.jpg', 'ISIC_0034400.jpg', 'ISIC_0034456.jpg', 'ISIC_0034334.jpg', 'ISIC_0034496.jpg', 'ISIC_0034335.jpg', 'ISIC_0034330.jpg', 'ISIC_0034448.jpg', 'ISIC_0034332.jpg', 'ISIC_0034379.jpg', 'ISIC_0034501.jpg', 'ISIC_0034476.jpg', 'ISIC_0034495.jpg', 'ISIC_0034457.jpg', 'ISIC_0034470.jpg', 'ISIC_0034504.jpg', 'ISIC_0034459.jpg', 'ISIC_0034326.jpg', 'ISIC_0034409.jpg', 'ISIC_0034351.jpg', 'ISIC_0034364.jpg', 'ISIC_0034420.jpg', 'ISIC_0034324.jpg', 'ISIC_0034404.jpg', 'ISIC_0034507.jpg', 'ISIC_0034380.jpg', 'ISIC_0034419.jpg', 'ISIC_0034377.jpg']\n"
     ]
    }
   ],
   "source": [
    "filenames_val = get_filenames(root_path)"
   ]
  },
  {
   "cell_type": "code",
   "execution_count": 22,
   "metadata": {},
   "outputs": [],
   "source": [
    "np.save('filenames_val.npy',filenames_val)"
   ]
  },
  {
   "cell_type": "code",
   "execution_count": 12,
   "metadata": {},
   "outputs": [],
   "source": [
    "\n",
    "\n",
    "# Create model and load pre-trained weights\n",
    "model = inception_v4(num_classes=1001, dropout_keep_prob=0.2, weights=None, include_top=True)\n",
    "model.layers.pop()\n",
    "model.outputs = model.layers[-1].output\n",
    "model.layers[-1].outbound_nodes = []\n",
    "x = Dense(7, activation='softmax')(model.outputs)\n",
    "model = Model(inputs=model.input, outputs=x)\n"
   ]
  },
  {
   "cell_type": "code",
   "execution_count": 13,
   "metadata": {},
   "outputs": [],
   "source": [
    "model = multi_gpu_model(model, gpus=3)\n"
   ]
  },
  {
   "cell_type": "code",
   "execution_count": 15,
   "metadata": {},
   "outputs": [],
   "source": [
    "model.load_weights('/home/wonjae/YongHyeok/Classification_TASK3/Inception4_classsn_lr_065_2o2_60ep.hdf5', by_name=True)\n"
   ]
  },
  {
   "cell_type": "code",
   "execution_count": 24,
   "metadata": {},
   "outputs": [],
   "source": [
    "img_val=np.load('filenames_val.npy')"
   ]
  },
  {
   "cell_type": "code",
   "execution_count": 17,
   "metadata": {},
   "outputs": [
    {
     "data": {
      "text/plain": [
       "'ISIC_0034467.jpg'"
      ]
     },
     "execution_count": 17,
     "metadata": {},
     "output_type": "execute_result"
    }
   ],
   "source": [
    "img_val[0]"
   ]
  },
  {
   "cell_type": "code",
   "execution_count": 25,
   "metadata": {},
   "outputs": [],
   "source": [
    " # make a train_image file with matplotlib.pyplot.imread\n",
    "import matplotlib\n",
    "from matplotlib import pyplot\n",
    "train_images = []\n",
    "for file in img_val:\n",
    "    train_images.append(matplotlib.pyplot.imread('/home/wonjae/YongHyeok/Classification_TASK3/dataset/ISIC2018_Task3_Validation_Input/'+file))"
   ]
  },
  {
   "cell_type": "code",
   "execution_count": 26,
   "metadata": {},
   "outputs": [],
   "source": [
    "a=np.array([])\n",
    "for i in range(len(train_images)):\n",
    "    im = train_images[i]\n",
    "    im = central_crop(im, 0.875)\n",
    "    im = cv2.resize(im, (299, 299))\n",
    "    a = np.append(a,im)"
   ]
  },
  {
   "cell_type": "code",
   "execution_count": 27,
   "metadata": {},
   "outputs": [],
   "source": [
    "a=np.reshape(a,(193,299,299,3))"
   ]
  },
  {
   "cell_type": "code",
   "execution_count": 28,
   "metadata": {},
   "outputs": [
    {
     "data": {
      "text/plain": [
       "<matplotlib.image.AxesImage at 0x7f9e8b7cf150>"
      ]
     },
     "execution_count": 28,
     "metadata": {},
     "output_type": "execute_result"
    },
    {
     "data": {
      "image/png": "[encoded data removed]",
      "text/plain": [
       "<Figure size 432x288 with 1 Axes>"
      ]
     },
     "metadata": {},
     "output_type": "display_data"
    }
   ],
   "source": [
    "a[0].shape\n",
    "v = np.array(a,np.uint16)\n",
    "plt.imshow(v[0], cmap = \"gray\")\n"
   ]
  },
  {
   "cell_type": "code",
   "execution_count": 29,
   "metadata": {},
   "outputs": [],
   "source": [
    "val_mean = np.mean(v,axis = (0,1,2,3))\n",
    "val_std = np.std(v,axis = (0,1,2,3))\n",
    "val_images_norm = (v - val_mean)/(val_std+1e-7)"
   ]
  },
  {
   "cell_type": "code",
   "execution_count": 30,
   "metadata": {},
   "outputs": [
    {
     "name": "stdout",
     "output_type": "stream",
     "text": [
      "177\n"
     ]
    }
   ],
   "source": [
    "\n",
    "# Open Class labels dictionary. (human readable label given ID)\n",
    "# classes = eval(open('validation_utils/class_names.txt', 'r').read())\n",
    "\n",
    "# Load test image!\n",
    "# for file in ISIC2018_Task3_Validation_Input\n",
    "\n",
    "# for i in range(len(img_val)):\n",
    "#     img_path = '/home/wonjae/Classification_inception_v4/ISIC2018_Task3_Validation_Input/'+img_val[i]\n",
    "#     img = np.append(img,get_processed_image(img_path))\n",
    "k = 0\n",
    "preds = model.predict(val_images_norm)\n",
    "for i in range(len(img_val)):\n",
    "#     plt.imshow(v[i], cmap = \"gray\")\n",
    "#     plt.show()\n",
    "#     print(np.argmax(preds[i]))\n",
    "#     print(np.max(preds[i]))\n",
    "    if np.max(preds[i])>0.499 :\n",
    "        k += 1\n",
    "# Run prediction on test image\n",
    "# preds = model.predict(img)\n",
    "# print(np.argmax(preds))\n",
    "# print(preds)\n",
    "print(k)\n",
    "\n",
    "\n",
    "# just leave the predition value despite max prediction is not over than 0.5"
   ]
  },
  {
   "cell_type": "code",
   "execution_count": null,
   "metadata": {},
   "outputs": [],
   "source": [
    "\n",
    "for i in range(len(img_val)):\n",
    "    for j in range(7):\n",
    "        if j != np.argmax(preds[i]) :\n",
    "            preds[i][j]='0.0'\n",
    "        else :\n",
    "            preds[i][j]='1.0'"
   ]
  },
  {
   "cell_type": "code",
   "execution_count": null,
   "metadata": {},
   "outputs": [],
   "source": [
    "k=0\n",
    "for i in range(len(img_val)):\n",
    "#     plt.imshow(v[i], cmap = \"gray\")\n",
    "#     plt.show()\n",
    "#     print(np.argmax(preds[i]))\n",
    "#     print(np.max(preds[i]))\n",
    "    if np.max(preds[i])>0.499 :\n",
    "        k += 1\n",
    "# Run prediction on test image\n",
    "# preds = model.predict(img)\n",
    "# print(np.argmax(preds))\n",
    "# print(preds)\n",
    "print(k)"
   ]
  },
  {
   "cell_type": "code",
   "execution_count": null,
   "metadata": {},
   "outputs": [],
   "source": [
    "preds.shape"
   ]
  },
  {
   "cell_type": "code",
   "execution_count": null,
   "metadata": {},
   "outputs": [],
   "source": [
    "foo=np.zeros((7))"
   ]
  },
  {
   "cell_type": "code",
   "execution_count": null,
   "metadata": {},
   "outputs": [],
   "source": [
    "hi=h[:,:]"
   ]
  },
  {
   "cell_type": "code",
   "execution_count": null,
   "metadata": {},
   "outputs": [],
   "source": [
    "foo=h.sum(axis=0)"
   ]
  },
  {
   "cell_type": "code",
   "execution_count": null,
   "metadata": {},
   "outputs": [],
   "source": [
    "foo"
   ]
  },
  {
   "cell_type": "code",
   "execution_count": null,
   "metadata": {},
   "outputs": [],
   "source": [
    "foo/193*100"
   ]
  },
  {
   "cell_type": "code",
   "execution_count": 31,
   "metadata": {},
   "outputs": [],
   "source": [
    "import numpy as np\n",
    "myarray = np.asarray(filenames_val)"
   ]
  },
  {
   "cell_type": "code",
   "execution_count": 32,
   "metadata": {},
   "outputs": [],
   "source": [
    "myarray=np.reshape(myarray,(193))"
   ]
  },
  {
   "cell_type": "code",
   "execution_count": 33,
   "metadata": {},
   "outputs": [],
   "source": [
    "for i in range(len(myarray)):\n",
    "    myarray[i]=myarray[i][:12]"
   ]
  },
  {
   "cell_type": "code",
   "execution_count": 34,
   "metadata": {},
   "outputs": [
    {
     "data": {
      "text/plain": [
       "(193,)"
      ]
     },
     "execution_count": 34,
     "metadata": {},
     "output_type": "execute_result"
    }
   ],
   "source": [
    "myarray.shape"
   ]
  },
  {
   "cell_type": "code",
   "execution_count": 35,
   "metadata": {},
   "outputs": [],
   "source": [
    "pred__ = np.zeros((193,8))"
   ]
  },
  {
   "cell_type": "code",
   "execution_count": 36,
   "metadata": {},
   "outputs": [
    {
     "data": {
      "text/plain": [
       "(193, 8)"
      ]
     },
     "execution_count": 36,
     "metadata": {},
     "output_type": "execute_result"
    }
   ],
   "source": [
    "pred__.shape"
   ]
  },
  {
   "cell_type": "code",
   "execution_count": 37,
   "metadata": {},
   "outputs": [],
   "source": [
    "pred__[:,1:]=preds"
   ]
  },
  {
   "cell_type": "code",
   "execution_count": 38,
   "metadata": {},
   "outputs": [],
   "source": [
    "pred__=pred__.astype(str)"
   ]
  },
  {
   "cell_type": "code",
   "execution_count": 39,
   "metadata": {},
   "outputs": [],
   "source": [
    "pred__[:,0]=myarray"
   ]
  },
  {
   "cell_type": "code",
   "execution_count": 40,
   "metadata": {},
   "outputs": [
    {
     "data": {
      "text/plain": [
       "array([['ISIC_0034467', '0.7074973583221436', '0.25744014978408813', ...,\n",
       "        '0.014969739131629467', '0.007482626941055059',\n",
       "        '0.0017209522193297744'],\n",
       "       ['ISIC_0034514', '0.09024324268102646', '0.8786753416061401', ...,\n",
       "        '0.014690257608890533', '0.005368873011320829',\n",
       "        '0.0021727292332798243'],\n",
       "       ['ISIC_0034474', '0.17867836356163025', '0.8002909421920776', ...,\n",
       "        '0.02002294361591339', '0.0003683390386868268',\n",
       "        '0.00022302391880657524'],\n",
       "       ...,\n",
       "       ['ISIC_0034380', '0.00010830008250195533', '0.9993841648101807',\n",
       "        ..., '0.00037500212783925235', '8.885595161700621e-05',\n",
       "        '1.9844204871333204e-05'],\n",
       "       ['ISIC_0034419', '0.04961712658405304', '0.5272523760795593', ...,\n",
       "        '0.0009056693525053561', '0.004240785259753466',\n",
       "        '0.35470905900001526'],\n",
       "       ['ISIC_0034377', '0.0006082528852857649', '0.994901180267334',\n",
       "        ..., '0.0034786995965987444', '0.0005123580922372639',\n",
       "        '0.00027388197486288846']], dtype='|S32')"
      ]
     },
     "execution_count": 40,
     "metadata": {},
     "output_type": "execute_result"
    }
   ],
   "source": [
    "pred__"
   ]
  },
  {
   "cell_type": "code",
   "execution_count": 41,
   "metadata": {},
   "outputs": [],
   "source": [
    "pred__=np.append((['image','MEL','NV','BCC','AKIEC','BKL','DF','VASC']),pred__)"
   ]
  },
  {
   "cell_type": "code",
   "execution_count": 42,
   "metadata": {},
   "outputs": [
    {
     "data": {
      "text/plain": [
       "array(['image', 'MEL', 'NV', ..., '0.0034786995965987444',\n",
       "       '0.0005123580922372639', '0.00027388197486288846'], dtype='|S32')"
      ]
     },
     "execution_count": 42,
     "metadata": {},
     "output_type": "execute_result"
    }
   ],
   "source": [
    "pred__"
   ]
  },
  {
   "cell_type": "code",
   "execution_count": 43,
   "metadata": {},
   "outputs": [],
   "source": [
    "pred__=np.reshape(pred__,(194,8))"
   ]
  },
  {
   "cell_type": "code",
   "execution_count": 44,
   "metadata": {},
   "outputs": [
    {
     "data": {
      "text/plain": [
       "array([['image', 'MEL', 'NV', ..., 'BKL', 'DF', 'VASC'],\n",
       "       ['ISIC_0034467', '0.7074973583221436', '0.25744014978408813', ...,\n",
       "        '0.014969739131629467', '0.007482626941055059',\n",
       "        '0.0017209522193297744'],\n",
       "       ['ISIC_0034514', '0.09024324268102646', '0.8786753416061401', ...,\n",
       "        '0.014690257608890533', '0.005368873011320829',\n",
       "        '0.0021727292332798243'],\n",
       "       ...,\n",
       "       ['ISIC_0034380', '0.00010830008250195533', '0.9993841648101807',\n",
       "        ..., '0.00037500212783925235', '8.885595161700621e-05',\n",
       "        '1.9844204871333204e-05'],\n",
       "       ['ISIC_0034419', '0.04961712658405304', '0.5272523760795593', ...,\n",
       "        '0.0009056693525053561', '0.004240785259753466',\n",
       "        '0.35470905900001526'],\n",
       "       ['ISIC_0034377', '0.0006082528852857649', '0.994901180267334',\n",
       "        ..., '0.0034786995965987444', '0.0005123580922372639',\n",
       "        '0.00027388197486288846']], dtype='|S32')"
      ]
     },
     "execution_count": 44,
     "metadata": {},
     "output_type": "execute_result"
    }
   ],
   "source": [
    "pred__"
   ]
  },
  {
   "cell_type": "code",
   "execution_count": 45,
   "metadata": {},
   "outputs": [
    {
     "name": "stdout",
     "output_type": "stream",
     "text": [
      "Writing complete\n"
     ]
    }
   ],
   "source": [
    " # save the prediction numpy array to csv\n",
    "\n",
    "import csv\n",
    " \n",
    "myFile = open('Validation_to1_lr_065_6060ep.csv', 'w')\n",
    "with myFile:\n",
    "    writer = csv.writer(myFile)\n",
    "    writer.writerows(pred__)\n",
    "     \n",
    "print(\"Writing complete\")"
   ]
  },
  {
   "cell_type": "code",
   "execution_count": null,
   "metadata": {},
   "outputs": [],
   "source": [
    "import numpy as np\n",
    "from scipy import ndimage\n",
    "# NOTE\n",
    "# Images are assumed to be uint8 0-255 valued.\n",
    "# For augment function:\n",
    "#   images shape: (batch_size, height, width, channels=3)\n",
    "#   labels shape: (batch_size, 3)\n",
    "def addBlotch(image, max_dims=[0.2,0.2]):\n",
    "    #add's small black/white box randomly in periphery of image\n",
    "    new_image = np.copy(image)\n",
    "    shape = new_image.shape\n",
    "    max_x = shape[0] * max_dims[0]\n",
    "    max_y = shape[1] * max_dims[1]\n",
    "    rand_x = 0\n",
    "    rand_y = np.random.randint(low=0, high=shape[1])\n",
    "    rand_bool = np.random.randint(0,2)\n",
    "    if rand_bool == 0:\n",
    "        rand_x = np.random.randint(low=0, high=max_x)\n",
    "    else:\n",
    "        rand_x = np.random.randint(low=(shape[0]-max_x), high=shape[0])\n",
    "    size = np.random.randint(low=1, high=7) #size of each side of box\n",
    "    new_image[rand_x:(size+rand_x), rand_y:(size+rand_y), :] = np.random.randint(0,256)\n",
    "    return new_image\n",
    "\n",
    "def shift(image, max_amt=0.2):\n",
    "    new_img = np.copy(image)\n",
    "    shape = new_img.shape\n",
    "    max_x = int(shape[0] * max_amt)\n",
    "    max_y = int(shape[1] * max_amt)\n",
    "    x = np.random.randint(low=-max_x, high=max_x)\n",
    "    y = np.random.randint(low=-max_y, high=max_y)\n",
    "    return ndimage.interpolation.shift(new_img,shift=[x,y,0])\n",
    "\n",
    "def addNoise(image, amt=0.005):\n",
    "    noise_mask = np.random.poisson(image / 255.0 * amt) / amt * 255\n",
    "    noisy_img = image + (noise_mask)\n",
    "    return np.array(np.clip(noisy_img, a_min=0., a_max=255.), dtype=np.uint8)\n",
    "\n",
    "def rotate(image):\n",
    "    randnum = np.random.randint(1,360)\n",
    "    new_image = np.copy(image)\n",
    "    return ndimage.rotate(new_image, angle=randnum, reshape=False)\n",
    "\n",
    "#randomly manipulates image\n",
    "#rotate, flip along axis, add blotch, shift\n",
    "def augment(images, labels=None, amplify=2):\n",
    "    # INPUT:\n",
    "    #images shape: (batch_size, height, width, channels=3)\n",
    "    #labels shape: (batch_size, 3)\n",
    "#     ops = {\n",
    "#         0: addBlotch,\n",
    "#         1: shift,\n",
    "#         2: addNoise,\n",
    "#         3: rotate\n",
    "#     }\n",
    "    ops = {\n",
    "        0: shift,\n",
    "        1: rotate,\n",
    "    }\n",
    "\n",
    "    shape = images.shape\n",
    "    new_images = np.zeros(((amplify*shape[0]), shape[1], shape[2], shape[3]))\n",
    "    if labels is not None:\n",
    "        new_labels = np.zeros(((amplify*shape[0]), 7))\n",
    "    for i in range(images.shape[0]):\n",
    "        cur_img = np.copy(images[i])\n",
    "        new_images[i] = cur_img\n",
    "        if labels is not None:\n",
    "            new_labels[i] = np.copy(labels[i])\n",
    "        for j in range(1, amplify):\n",
    "            add_r = ( j * shape[0] )\n",
    "            which_op = np.random.randint(low=0, high=1)\n",
    "            dup_img = np.zeros((1,shape[1], shape[2], shape[3]))\n",
    "            new_images[i+add_r] = ops[which_op](cur_img)\n",
    "            if labels is not None:\n",
    "                new_labels[i+add_r] = np.copy(labels[i])\n",
    "    if labels is not None:\n",
    "        return new_images.astype(np.uint8), new_labels.astype(np.uint8)\n",
    "    else:\n",
    "        return new_images.astype(np.uint8)"
   ]
  },
  {
   "cell_type": "code",
   "execution_count": null,
   "metadata": {},
   "outputs": [],
   "source": [
    "v_aug=augment(v,amplify=4)"
   ]
  },
  {
   "cell_type": "code",
   "execution_count": null,
   "metadata": {},
   "outputs": [],
   "source": [
    "v_aug.shape"
   ]
  },
  {
   "cell_type": "code",
   "execution_count": null,
   "metadata": {},
   "outputs": [],
   "source": [
    "val_aug_mean = np.mean(v_aug,axis = (0,1,2,3))\n",
    "val_aug_std = np.std(v_aug,axis = (0,1,2,3))\n",
    "val_images_aug_norm = (v_aug - val_aug_mean)/(val_aug_std+1e-7)"
   ]
  },
  {
   "cell_type": "code",
   "execution_count": null,
   "metadata": {},
   "outputs": [],
   "source": [
    "k = 0\n",
    "preds_aug = model.predict(val_images_aug_norm)\n",
    "for i in range(len(img_val)):\n",
    "    if np.max(preds_aug[i])>0.499 :\n",
    "        k += 1\n",
    "print(k)"
   ]
  },
  {
   "cell_type": "code",
   "execution_count": null,
   "metadata": {},
   "outputs": [],
   "source": [
    "preds_aug"
   ]
  },
  {
   "cell_type": "code",
   "execution_count": null,
   "metadata": {},
   "outputs": [],
   "source": [
    "v_aug_mean=np.zeros((193, 7),dtype=np.float32)"
   ]
  },
  {
   "cell_type": "code",
   "execution_count": null,
   "metadata": {},
   "outputs": [],
   "source": [
    "v_aug_mean.shape"
   ]
  },
  {
   "cell_type": "code",
   "execution_count": null,
   "metadata": {},
   "outputs": [],
   "source": [
    "for i in range(193) :\n",
    "    v_aug_mean[i]=np.mean(np.array([preds_aug[i],preds_aug[i+193],preds_aug[i+193*2],preds_aug[i+193*3]]),axis=0)"
   ]
  },
  {
   "cell_type": "code",
   "execution_count": null,
   "metadata": {},
   "outputs": [],
   "source": [
    "k=0\n",
    "for i in range(len(img_val)):\n",
    "    if np.max(v_aug_mean[i])>0.499 :\n",
    "        k += 1\n",
    "print(k)"
   ]
  },
  {
   "cell_type": "code",
   "execution_count": null,
   "metadata": {},
   "outputs": [],
   "source": [
    "v_aug_mean"
   ]
  },
  {
   "cell_type": "code",
   "execution_count": null,
   "metadata": {},
   "outputs": [],
   "source": [
    "myFile = open('file_names.csv', 'w')\n",
    "with myFile:\n",
    "    writer = csv.writer(myFile)\n",
    "    writer.writerows(myarray)\n",
    "     \n",
    "print(\"Writing complete\")"
   ]
  },
  {
   "cell_type": "code",
   "execution_count": null,
   "metadata": {},
   "outputs": [],
   "source": [
    "img_path = '/home/wonjae/Classification_inception_v4/ISIC2018_Task3_Validation_Input/'+img_val[1]"
   ]
  },
  {
   "cell_type": "code",
   "execution_count": null,
   "metadata": {},
   "outputs": [],
   "source": [
    "img = get_processed_image(img_path)"
   ]
  },
  {
   "cell_type": "code",
   "execution_count": null,
   "metadata": {},
   "outputs": [],
   "source": [
    "plt.imshow(train_images[0], cmap = \"gray\")\n",
    "plt.show()"
   ]
  },
  {
   "cell_type": "code",
   "execution_count": null,
   "metadata": {},
   "outputs": [],
   "source": [
    "x=np.load('filenames_val.npy')"
   ]
  }
 ],
 "metadata": {
  "kernelspec": {
   "display_name": "Python 2",
   "language": "python",
   "name": "python2"
  },
  "language_info": {
   "codemirror_mode": {
    "name": "ipython",
    "version": 2
   },
   "file_extension": ".py",
   "mimetype": "text/x-python",
   "name": "python",
   "nbconvert_exporter": "python",
   "pygments_lexer": "ipython2",
   "version": "2.7.15"
  }
 },
 "nbformat": 4,
 "nbformat_minor": 2
}
