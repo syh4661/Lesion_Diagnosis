{
 "cells": [
  {
   "cell_type": "code",
   "execution_count": null,
   "metadata": {},
   "outputs": [],
   "source": [
    "import numpy as np\n",
    "from scipy import ndimage\n"
   ]
  },
  {
   "cell_type": "code",
   "execution_count": null,
   "metadata": {},
   "outputs": [],
   "source": [
    "# org_images=np.load('train_images_task3_299.npy')\n",
    "# org_gt=np.load('gt_labels_Task3_224.npy')\n",
    "# org_images_shape = org_images.shape\n",
    "# org_gt_shape = org_gt.shape"
   ]
  },
  {
   "cell_type": "code",
   "execution_count": null,
   "metadata": {},
   "outputs": [],
   "source": [
    "\n",
    "# NOTE\n",
    "# Images are assumed to be uint8 0-255 valued.\n",
    "# For augment function:\n",
    "#   images shape: (batch_size, height, width, channels=3)\n",
    "#   labels shape: (batch_size, 3)\n",
    "def addBlotch(image, max_dims=[0.2,0.2]):\n",
    "    #add's small black/white box randomly in periphery of image\n",
    "    new_image = np.copy(image)\n",
    "    shape = new_image.shape\n",
    "    max_x = shape[0] * max_dims[0]\n",
    "    max_y = shape[1] * max_dims[1]\n",
    "    rand_x = 0\n",
    "    rand_y = np.random.randint(low=0, high=shape[1])\n",
    "    rand_bool = np.random.randint(0,2)\n",
    "    if rand_bool == 0:\n",
    "        rand_x = np.random.randint(low=0, high=max_x)\n",
    "    else:\n",
    "        rand_x = np.random.randint(low=(shape[0]-max_x), high=shape[0])\n",
    "    size = np.random.randint(low=1, high=7) #size of each side of box\n",
    "    new_image[rand_x:(size+rand_x), rand_y:(size+rand_y), :] = np.random.randint(0,256)\n",
    "    return new_image\n",
    "\n",
    "def shift(image, max_amt=0.2):\n",
    "    new_img = np.copy(image)\n",
    "    shape = new_img.shape\n",
    "    max_x = int(shape[0] * max_amt)\n",
    "    max_y = int(shape[1] * max_amt)\n",
    "    x = np.random.randint(low=-max_x, high=max_x)\n",
    "    y = np.random.randint(low=-max_y, high=max_y)\n",
    "    return ndimage.interpolation.shift(new_img,shift=[x,y,0])\n",
    "\n",
    "def addNoise(image, amt=0.005):\n",
    "    noise_mask = np.random.poisson(image / 255.0 * amt) / amt * 255\n",
    "    noisy_img = image + (noise_mask)\n",
    "    return np.array(np.clip(noisy_img, a_min=0., a_max=255.), dtype=np.uint8)\n",
    "\n",
    "def rotate(image):\n",
    "    randnum = np.random.randint(1,360)\n",
    "    new_image = np.copy(image)\n",
    "    return ndimage.rotate(new_image, angle=randnum, reshape=False)\n",
    "\n",
    "#randomly manipulates image\n",
    "#rotate, flip along axis, add blotch, shift\n",
    "def augment(images, labels=None, amplify=2):\n",
    "    # INPUT:\n",
    "    #images shape: (batch_size, height, width, channels=3)\n",
    "    #labels shape: (batch_size, 3)\n",
    "    ops = {\n",
    "        0: addBlotch,\n",
    "        1: shift,\n",
    "        2: addNoise,\n",
    "        3: rotate\n",
    "    }\n",
    "\n",
    "    shape = images.shape\n",
    "    new_images = np.zeros(((amplify*shape[0]), shape[1], shape[2], shape[3]))\n",
    "    if labels is not None:\n",
    "        new_labels = np.zeros(((amplify*shape[0]), 7))\n",
    "    for i in range(images.shape[0]):\n",
    "        cur_img = np.copy(images[i])\n",
    "        new_images[i] = cur_img\n",
    "        if labels is not None:\n",
    "            new_labels[i] = np.copy(labels[i])\n",
    "        for j in range(1, amplify):\n",
    "            add_r = ( j * shape[0] )\n",
    "            which_op = np.random.randint(low=0, high=4)\n",
    "            dup_img = np.zeros((1,shape[1], shape[2], shape[3]))\n",
    "            new_images[i+add_r] = ops[which_op](cur_img)\n",
    "            if labels is not None:\n",
    "                new_labels[i+add_r] = np.copy(labels[i])\n",
    "    if labels is not None:\n",
    "        return new_images.astype(np.uint8), new_labels.astype(np.uint8)\n",
    "    else:\n",
    "        return new_images.astype(np.uint8)"
   ]
  },
  {
   "cell_type": "code",
   "execution_count": null,
   "metadata": {},
   "outputs": [],
   "source": [
    "\n",
    "# # NOTE\n",
    "# # Images are assumed to be uint8 0-255 valued.\n",
    "# # For augment function:\n",
    "# #   images shape: (batch_size, height, width, channels=3)\n",
    "# #   labels shape: (batch_size, 3)\n",
    "\n",
    "# def addBlotch(image, max_dims=[0.2,0.2]):\n",
    "#     #add's small black/white box randomly in periphery of image\n",
    "#     new_image = np.copy(image)\n",
    "#     shape = new_image.shape\n",
    "#     max_x = shape[0] * max_dims[0]\n",
    "#     max_y = shape[1] * max_dims[1]\n",
    "#     rand_x = 0\n",
    "#     rand_y = np.random.randint(low=0, high=shape[1])\n",
    "#     rand_bool = np.random.randint(0,2)\n",
    "#     if rand_bool == 0:\n",
    "#         rand_x = np.random.randint(low=0, high=max_x)\n",
    "#     else:\n",
    "#         rand_x = np.random.randint(low=(shape[0]-max_x), high=shape[0])\n",
    "#     size = np.random.randint(low=1, high=7) #size of each side of box\n",
    "#     new_image[rand_x:(size+rand_x), rand_y:(size+rand_y), :] = np.random.randint(0,256)\n",
    "#     return new_image\n",
    "\n",
    "# def shift(image, max_amt=0.2):\n",
    "#     new_img = np.copy(image)\n",
    "#     shape = new_img.shape\n",
    "#     max_x = int(shape[0] * max_amt)\n",
    "#     max_y = int(shape[1] * max_amt)\n",
    "#     x = np.random.randint(low=-max_x, high=max_x)\n",
    "#     y = np.random.randint(low=-max_y, high=max_y)\n",
    "#     return ndimage.interpolation.shift(new_img,shift=[x,y,0])\n",
    "\n",
    "# def addNoise(image, amt=0.005):\n",
    "#     noise_mask = np.random.poisson(image / 255.0 * amt) / amt * 255\n",
    "#     noisy_img = image + (noise_mask)\n",
    "#     return np.array(np.clip(noisy_img, a_min=0., a_max=255.), dtype=np.uint8)\n",
    "\n",
    "# def rotate(image):\n",
    "#     randnum = np.random.randint(1,360)\n",
    "#     new_image = np.copy(image)\n",
    "#     return ndimage.rotate(new_image, angle=randnum, reshape=False)\n",
    "\n",
    "# #randomly manipulates image\n",
    "# #rotate, flip along axis, add blotch, shift\n",
    "# def augment(images, labels=None, amplify=2):\n",
    "#     # INPUT:\n",
    "#     #images shape: (batch_size, height, width, channels=3)\n",
    "#     #labels shape: (batch_size, 3)\n",
    "#     ops = {\n",
    "#         0: addBlotch,\n",
    "#         1: shift,\n",
    "#         2: addNoise,\n",
    "#         3: rotate\n",
    "#     }\n",
    "#     shape = images.shape\n",
    "#     new_images = np.zeros(((org_images_shape[0]+(amplify-1)*shape[0]), shape[1], shape[2], shape[3]))\n",
    "#     if labels is not None:\n",
    "#         new_labels = np.zeros(((org_images_shape[0]+(amplify-1)*shape[0]), 7))\n",
    "#     for i in range(images.shape[0]):\n",
    "#         cur_img = np.copy(images[i])\n",
    "#         new_images[org_images_shape[0]+i] = cur_img\n",
    "#         if labels is not None:\n",
    "#             new_labels[org_gt_shape[0]+i] = np.copy(labels[i])\n",
    "#         for j in range(1, amplify-1):\n",
    "#             add_r = ( j * shape[0] )\n",
    "#             which_op = np.random.randint(low=0, high=4)\n",
    "#             dup_img = np.zeros((1,shape[1], shape[2], shape[3]))\n",
    "#             new_images[org_images_shape[0]+i+add_r] = ops[which_op](cur_img)   # augmentation part\n",
    "#             if labels is not None:\n",
    "#                 new_labels[org_images_shape[0]+i+add_r] = np.copy(labels[i])\n",
    "#     if labels is not None:\n",
    "#         return new_images.astype(np.uint8), new_labels.astype(np.uint8)\n",
    "#     else:\n",
    "#         return new_images.astype(np.uint8)"
   ]
  },
  {
   "cell_type": "code",
   "execution_count": null,
   "metadata": {},
   "outputs": [],
   "source": [
    "\n",
    "import matplotlib.pyplot as plt\n",
    "import numpy as np\n",
    "%matplotlib inline"
   ]
  },
  {
   "cell_type": "code",
   "execution_count": null,
   "metadata": {},
   "outputs": [],
   "source": [
    "import numpy as np\n",
    "import scipy.io as scio    \n",
    "import os,re\n",
    "from PIL import Image\n",
    "from scipy import ndimage\n",
    "from matplotlib import pyplot as plt\n",
    "import cv2"
   ]
  },
  {
   "cell_type": "code",
   "execution_count": null,
   "metadata": {},
   "outputs": [],
   "source": [
    "IMAGE_SIZE = 299"
   ]
  },
  {
   "cell_type": "code",
   "execution_count": null,
   "metadata": {},
   "outputs": [],
   "source": [
    "def atoi(text) : \n",
    "    return int(text) if text.isdigit() else text"
   ]
  },
  {
   "cell_type": "code",
   "execution_count": null,
   "metadata": {},
   "outputs": [],
   "source": [
    "def natural_keys(text) :\n",
    "    return [atoi(c) for c in re.split('(\\d+)', text)]"
   ]
  },
  {
   "cell_type": "code",
   "execution_count": null,
   "metadata": {},
   "outputs": [],
   "source": [
    "def get_filenames(path):\n",
    "    filenames = []\n",
    "    for root, dirnames, filenames in os.walk(path):\n",
    "        filenames.sort(key = natural_keys)\n",
    "        rootpath = root\n",
    "    print(len(filenames))\n",
    "    return filenames"
   ]
  },
  {
   "cell_type": "code",
   "execution_count": null,
   "metadata": {},
   "outputs": [],
   "source": [
    "root_path = \"/Users/syh4661/workspace/Preprocessing/\""
   ]
  },
  {
   "cell_type": "code",
   "execution_count": null,
   "metadata": {},
   "outputs": [],
   "source": [
    "images_MEL=np.load('train_images_task3_299_MEL.npy')"
   ]
  },
  {
   "cell_type": "code",
   "execution_count": null,
   "metadata": {},
   "outputs": [],
   "source": [
    "images_NV=np.load('train_images_task3_299_NV.npy')"
   ]
  },
  {
   "cell_type": "code",
   "execution_count": null,
   "metadata": {},
   "outputs": [],
   "source": [
    "images_BCC=np.load('train_images_task3_299_BCC.npy')"
   ]
  },
  {
   "cell_type": "code",
   "execution_count": null,
   "metadata": {},
   "outputs": [],
   "source": [
    "images_AKIEC=np.load('train_images_task3_299_AKIEC.npy')"
   ]
  },
  {
   "cell_type": "code",
   "execution_count": null,
   "metadata": {},
   "outputs": [],
   "source": [
    "images_BKL=np.load('train_images_task3_299_BKL.npy')"
   ]
  },
  {
   "cell_type": "code",
   "execution_count": null,
   "metadata": {},
   "outputs": [],
   "source": [
    "images_DF=np.load('train_images_task3_299_DF.npy')"
   ]
  },
  {
   "cell_type": "code",
   "execution_count": null,
   "metadata": {},
   "outputs": [],
   "source": [
    "images_VASC=np.load('train_images_task3_299_VASC.npy')"
   ]
  },
  {
   "cell_type": "code",
   "execution_count": null,
   "metadata": {},
   "outputs": [],
   "source": [
    "gt_MEL=np.load('gt_labels_Task3_%d_MEL.npy'%IMAGE_SIZE)\n",
    "gt_NV=np.load('gt_labels_Task3_%d_NV.npy'%IMAGE_SIZE)\n",
    "gt_BCC=np.load('gt_labels_Task3_%d_BCC.npy'%IMAGE_SIZE)\n",
    "gt_AKIEC=np.load('gt_labels_Task3_%d_AKIEC.npy'%IMAGE_SIZE)\n",
    "gt_BKL=np.load('gt_labels_Task3_%d_BKL.npy'%IMAGE_SIZE)\n",
    "gt_DF=np.load('gt_labels_Task3_%d_DF.npy'%IMAGE_SIZE)\n",
    "gt_VASC=np.load('gt_labels_Task3_%d_VASC.npy'%IMAGE_SIZE)\n"
   ]
  },
  {
   "cell_type": "code",
   "execution_count": null,
   "metadata": {},
   "outputs": [],
   "source": [
    "a=images_MEL[:3]"
   ]
  },
  {
   "cell_type": "code",
   "execution_count": null,
   "metadata": {},
   "outputs": [],
   "source": [
    "a.shape"
   ]
  },
  {
   "cell_type": "code",
   "execution_count": null,
   "metadata": {},
   "outputs": [],
   "source": [
    "plt.imshow(a[0], cmap = \"gray\")\n",
    "plt.show()"
   ]
  },
  {
   "cell_type": "code",
   "execution_count": null,
   "metadata": {},
   "outputs": [],
   "source": [
    "plt.imshow(a[1], cmap = \"gray\")\n",
    "plt.show()"
   ]
  },
  {
   "cell_type": "code",
   "execution_count": null,
   "metadata": {},
   "outputs": [],
   "source": [
    "plt.imshow(a[2], cmap = \"gray\")\n",
    "plt.show()"
   ]
  },
  {
   "cell_type": "code",
   "execution_count": null,
   "metadata": {},
   "outputs": [],
   "source": [
    "b=augment(a,amplify=4)"
   ]
  },
  {
   "cell_type": "code",
   "execution_count": null,
   "metadata": {},
   "outputs": [],
   "source": [
    "b.shape"
   ]
  },
  {
   "cell_type": "code",
   "execution_count": null,
   "metadata": {},
   "outputs": [],
   "source": [
    "plt.imshow(b[6], cmap = \"gray\")\n",
    "plt.show()"
   ]
  },
  {
   "cell_type": "code",
   "execution_count": null,
   "metadata": {},
   "outputs": [],
   "source": [
    "gt_MEL.shape"
   ]
  },
  {
   "cell_type": "code",
   "execution_count": null,
   "metadata": {},
   "outputs": [],
   "source": [
    "images_MEL.shape"
   ]
  },
  {
   "cell_type": "code",
   "execution_count": null,
   "metadata": {},
   "outputs": [],
   "source": [
    "images_MEL_aug.shape"
   ]
  },
  {
   "cell_type": "code",
   "execution_count": null,
   "metadata": {},
   "outputs": [],
   "source": [
    "images_MEL_aug, gt_MEL_aug = augment(images_MEL,gt_MEL,amplify=6)"
   ]
  },
  {
   "cell_type": "code",
   "execution_count": null,
   "metadata": {},
   "outputs": [],
   "source": [
    "images_BCC_aug, gt_BCC_aug = augment(images_BCC,gt_BCC, amplify=13)\n",
    "images_AKIEC_aug, gt_AKIEC_aug = augment(images_AKIEC,gt_AKIEC, amplify=20)\n",
    "images_BKL_aug, gt_BKL_aug = augment(images_BKL,gt_BKL, amplify=6)\n",
    "images_DF_aug, gt_DF_aug = augment(images_DF,gt_DF, amplify=58)\n",
    "images_VASC_aug, gt_VASC_aug = augment(images_VASC,gt_VASC, amplify=47)"
   ]
  },
  {
   "cell_type": "code",
   "execution_count": null,
   "metadata": {},
   "outputs": [],
   "source": [
    "np.save('train_images_task3_%d_MEL_aug.npy'%IMAGE_SIZE,images_MEL_aug)\n",
    "# np.save('train_images_task3_%d_NV_aug.npy'%IMAGE_SIZE,train_images_NV)\n",
    "np.save('train_images_task3_%d_BCC_aug.npy'%IMAGE_SIZE,images_BCC_aug)\n",
    "np.save('train_images_task3_%d_AKIEC_aug.npy'%IMAGE_SIZE,images_AKIEC_aug)\n",
    "np.save('train_images_task3_%d_BKL_aug.npy'%IMAGE_SIZE,images_BKL_aug)\n",
    "np.save('train_images_task3_%d_DF_aug.npy'%IMAGE_SIZE,images_DF_aug)\n",
    "np.save('train_images_task3_%d_VASC_aug.npy'%IMAGE_SIZE,images_VASC_aug)"
   ]
  },
  {
   "cell_type": "code",
   "execution_count": null,
   "metadata": {},
   "outputs": [],
   "source": [
    "np.save('gt_labels_Task3_%d_MEL_aug.npy'%IMAGE_SIZE,gt_MEL)\n",
    "# np.save('gt_labels_Task3_%d_NV_aug.npy'%IMAGE_SIZE,gt_NV)\n",
    "np.save('gt_labels_Task3_%d_BCC_aug.npy'%IMAGE_SIZE,gt_BCC)\n",
    "np.save('gt_labels_Task3_%d_AKIEC_aug.npy'%IMAGE_SIZE,gt_AKIEC)\n",
    "np.save('gt_labels_Task3_%d_BKL_aug.npy'%IMAGE_SIZE,gt_BKL)\n",
    "np.save('gt_labels_Task3_%d_DF_aug.npy'%IMAGE_SIZE,gt_DF)\n",
    "np.save('gt_labels_Task3_%d_VASC_aug.npy'%IMAGE_SIZE,gt_VASC)"
   ]
  },
  {
   "cell_type": "code",
   "execution_count": null,
   "metadata": {},
   "outputs": [],
   "source": [
    "images_VASC_aug.shape"
   ]
  },
  {
   "cell_type": "code",
   "execution_count": null,
   "metadata": {},
   "outputs": [],
   "source": [
    "images_MEL_aug=np.load('train_images_task3_%d_MEL_aug.npy'%IMAGE_SIZE)\n",
    "images_NV_aug=np.load('train_images_task3_%d_NV.npy'%IMAGE_SIZE)\n",
    "images_BCC_aug=np.load('train_images_task3_%d_BCC_aug.npy'%IMAGE_SIZE)\n",
    "images_AKIEC_aug=np.load('train_images_task3_%d_AKIEC_aug.npy'%IMAGE_SIZE)\n",
    "images_BKL_aug=np.load('train_images_task3_%d_BKL_aug.npy'%IMAGE_SIZE)\n",
    "images_DF_aug=np.load('train_images_task3_%d_DF_aug.npy'%IMAGE_SIZE)\n",
    "images_VASC_aug=np.load('train_images_task3_%d_VASC_aug.npy'%IMAGE_SIZE)"
   ]
  },
  {
   "cell_type": "code",
   "execution_count": null,
   "metadata": {},
   "outputs": [],
   "source": [
    "gt_MEL=np.load('gt_labels_Task3_%d_MEL_aug.npy'%IMAGE_SIZE)\n",
    "gt_NV=np.load('gt_labels_Task3_%d_NV.npy'%IMAGE_SIZE)\n",
    "gt_BCC=np.load('gt_labels_Task3_%d_BCC_aug.npy'%IMAGE_SIZE)\n",
    "gt_AKIEC=np.load('gt_labels_Task3_%d_AKIEC_aug.npy'%IMAGE_SIZE)\n",
    "gt_BKL=np.load('gt_labels_Task3_%d_BKL_aug.npy'%IMAGE_SIZE)\n",
    "gt_DF=np.load('gt_labels_Task3_%d_DF_aug.npy'%IMAGE_SIZE)\n",
    "gt_VASC=np.load('gt_labels_Task3_%d_VASC_aug.npy'%IMAGE_SIZE)"
   ]
  },
  {
   "cell_type": "code",
   "execution_count": null,
   "metadata": {},
   "outputs": [],
   "source": [
    "print gt_MEL.shape\n",
    "print gt_NV.shape\n",
    "print gt_BCC.shape\n",
    "print gt_AKIEC.shape\n",
    "print gt_BKL.shape\n",
    "print gt_DF.shape\n",
    "print gt_VASC.shape"
   ]
  },
  {
   "cell_type": "code",
   "execution_count": null,
   "metadata": {},
   "outputs": [],
   "source": [
    "x=np.array([])"
   ]
  },
  {
   "cell_type": "code",
   "execution_count": null,
   "metadata": {},
   "outputs": [],
   "source": [
    "for i in range(6):\n",
    "    x=np.append(x,gt_MEL)\n",
    "    \n",
    "del gt_MEL"
   ]
  },
  {
   "cell_type": "code",
   "execution_count": null,
   "metadata": {},
   "outputs": [],
   "source": [
    "x=np.append(x,gt_NV)\n",
    "del gt_NV"
   ]
  },
  {
   "cell_type": "code",
   "execution_count": null,
   "metadata": {},
   "outputs": [],
   "source": [
    "for i in range(13):\n",
    "    x=np.append(x,gt_BCC)\n",
    "    \n",
    "del gt_BCC"
   ]
  },
  {
   "cell_type": "code",
   "execution_count": null,
   "metadata": {},
   "outputs": [],
   "source": [
    "for i in range(20):\n",
    "    x=np.append(x,gt_AKIEC)\n",
    "    \n",
    "del gt_AKIEC\n"
   ]
  },
  {
   "cell_type": "code",
   "execution_count": null,
   "metadata": {},
   "outputs": [],
   "source": [
    "for i in range(6):\n",
    "    x=np.append(x,gt_BKL)\n",
    "    \n",
    "del gt_BKL"
   ]
  },
  {
   "cell_type": "code",
   "execution_count": null,
   "metadata": {},
   "outputs": [],
   "source": [
    "for i in range(58):\n",
    "    x=np.append(x,gt_DF)\n",
    "del gt_DF"
   ]
  },
  {
   "cell_type": "code",
   "execution_count": null,
   "metadata": {},
   "outputs": [],
   "source": [
    "for i in range(47):\n",
    "    x=np.append(x,gt_VASC)\n",
    "del gt_VASC"
   ]
  },
  {
   "cell_type": "code",
   "execution_count": null,
   "metadata": {},
   "outputs": [],
   "source": [
    "x=x.reshape((46543,7))"
   ]
  },
  {
   "cell_type": "code",
   "execution_count": null,
   "metadata": {},
   "outputs": [],
   "source": [
    "x.shape"
   ]
  },
  {
   "cell_type": "code",
   "execution_count": null,
   "metadata": {},
   "outputs": [],
   "source": [
    "np.save('gt_task3_%d_aug.npy'%IMAGE_SIZE,x)"
   ]
  },
  {
   "cell_type": "code",
   "execution_count": null,
   "metadata": {},
   "outputs": [],
   "source": [
    "tot=images_MEL_aug.shape[0]+images_NV_aug.shape[0]+images_BCC_aug.shape[0]+images_AKIEC_aug.shape[0]+images_BKL_aug.shape[0]+images_DF_aug.shape[0]+images_VASC_aug.shape[0]"
   ]
  },
  {
   "cell_type": "code",
   "execution_count": null,
   "metadata": {},
   "outputs": [],
   "source": [
    "tot"
   ]
  },
  {
   "cell_type": "code",
   "execution_count": null,
   "metadata": {},
   "outputs": [],
   "source": [
    "x=np.append(gt_MEL,gt_NV)"
   ]
  },
  {
   "cell_type": "code",
   "execution_count": null,
   "metadata": {},
   "outputs": [],
   "source": [
    "x=np.append(x,gt_BCC)"
   ]
  },
  {
   "cell_type": "code",
   "execution_count": null,
   "metadata": {},
   "outputs": [],
   "source": [
    "x=np.append(x,gt_AKIEC)"
   ]
  },
  {
   "cell_type": "code",
   "execution_count": null,
   "metadata": {},
   "outputs": [],
   "source": [
    "x=np.append(x,gt_BKL)"
   ]
  },
  {
   "cell_type": "code",
   "execution_count": null,
   "metadata": {},
   "outputs": [],
   "source": [
    "x=np.append(x,gt_DF)"
   ]
  },
  {
   "cell_type": "code",
   "execution_count": null,
   "metadata": {},
   "outputs": [],
   "source": [
    "x=np.append(x,gt_VASC)"
   ]
  },
  {
   "cell_type": "code",
   "execution_count": null,
   "metadata": {},
   "outputs": [],
   "source": [
    "x=x.reshape((46543,3))"
   ]
  },
  {
   "cell_type": "code",
   "execution_count": null,
   "metadata": {},
   "outputs": [],
   "source": [
    "x.shape"
   ]
  },
  {
   "cell_type": "code",
   "execution_count": null,
   "metadata": {},
   "outputs": [],
   "source": [
    "plt.imshow(x[46542], cmap = \"gray\")\n",
    "plt.show()"
   ]
  },
  {
   "cell_type": "code",
   "execution_count": null,
   "metadata": {},
   "outputs": [],
   "source": [
    "np.save('images_task3_%d_aug.npy'%IMAGE_SIZE,x)"
   ]
  },
  {
   "cell_type": "code",
   "execution_count": null,
   "metadata": {},
   "outputs": [],
   "source": [
    "shape = images_MEL_aug.shape\n",
    "new_images = np.empty((, shape[1], shape[2], shape[3]))"
   ]
  },
  {
   "cell_type": "code",
   "execution_count": null,
   "metadata": {},
   "outputs": [],
   "source": [
    "import os"
   ]
  },
  {
   "cell_type": "code",
   "execution_count": null,
   "metadata": {},
   "outputs": [],
   "source": [
    "os.getcwd()"
   ]
  },
  {
   "cell_type": "code",
   "execution_count": null,
   "metadata": {},
   "outputs": [],
   "source": [
    "images = np.load('/home/wonjae/Classification_inception_v4/dataset/images_task3_299_aug.npy')\n",
    "gt_labels = np.load('/home/wonjae/Classification_inception_v4/dataset/gt_task3_299_aug.npy')\n",
    "data_size = images.shape[0]"
   ]
  },
  {
   "cell_type": "code",
   "execution_count": null,
   "metadata": {},
   "outputs": [],
   "source": [
    " # randomization.\n",
    "\n",
    "randomized_indices = np.random.choice(data_size,data_size,replace=False)"
   ]
  },
  {
   "cell_type": "code",
   "execution_count": null,
   "metadata": {},
   "outputs": [],
   "source": [
    "randomized_images=images[randomized_indices,:,:]"
   ]
  },
  {
   "cell_type": "code",
   "execution_count": null,
   "metadata": {},
   "outputs": [],
   "source": [
    "randomized_labels = gt_labels[randomized_indices]"
   ]
  },
  {
   "cell_type": "code",
   "execution_count": null,
   "metadata": {},
   "outputs": [],
   "source": [
    "randomized_labels.shape"
   ]
  },
  {
   "cell_type": "code",
   "execution_count": null,
   "metadata": {},
   "outputs": [],
   "source": [
    "randomized_images.shape"
   ]
  },
  {
   "cell_type": "code",
   "execution_count": null,
   "metadata": {},
   "outputs": [],
   "source": [
    "np.save('images_task3_%d_aug_ran.npy',randomized_images)\n",
    "np.save('gt_task3_299_aug_ran.npy',randomized_labels)"
   ]
  },
  {
   "cell_type": "code",
   "execution_count": null,
   "metadata": {},
   "outputs": [],
   "source": []
  },
  {
   "cell_type": "code",
   "execution_count": null,
   "metadata": {},
   "outputs": [],
   "source": []
  },
  {
   "cell_type": "code",
   "execution_count": null,
   "metadata": {},
   "outputs": [],
   "source": []
  }
 ],
 "metadata": {
  "kernelspec": {
   "display_name": "Python 2",
   "language": "python",
   "name": "python2"
  },
  "language_info": {
   "codemirror_mode": {
    "name": "ipython",
    "version": 2
   },
   "file_extension": ".py",
   "mimetype": "text/x-python",
   "name": "python",
   "nbconvert_exporter": "python",
   "pygments_lexer": "ipython2",
   "version": "2.7.15"
  }
 },
 "nbformat": 4,
 "nbformat_minor": 2
}
