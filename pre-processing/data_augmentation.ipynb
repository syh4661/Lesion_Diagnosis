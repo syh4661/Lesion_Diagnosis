{
 "cells": [
  {
   "cell_type": "code",
   "execution_count": 1,
   "metadata": {},
   "outputs": [],
   "source": [
    "import numpy as np\n",
    "from scipy import ndimage\n"
   ]
  },
  {
   "cell_type": "code",
   "execution_count": 2,
   "metadata": {},
   "outputs": [],
   "source": [
    "# org_images=np.load('train_images_task3_299.npy')\n",
    "# org_gt=np.load('gt_labels_Task3_224.npy')\n",
    "# org_images_shape = org_images.shape\n",
    "# org_gt_shape = org_gt.shape"
   ]
  },
  {
   "cell_type": "code",
   "execution_count": 4,
   "metadata": {},
   "outputs": [],
   "source": [
    "\n",
    "# NOTE\n",
    "# Images are assumed to be uint8 0-255 valued.\n",
    "# For augment function:\n",
    "#   images shape: (batch_size, height, width, channels=3)\n",
    "#   labels shape: (batch_size, 3)\n",
    "def addBlotch(image, max_dims=[0.2,0.2]):\n",
    "    #add's small black/white box randomly in periphery of image\n",
    "    new_image = np.copy(image)\n",
    "    shape = new_image.shape\n",
    "    max_x = shape[0] * max_dims[0]\n",
    "    max_y = shape[1] * max_dims[1]\n",
    "    rand_x = 0\n",
    "    rand_y = np.random.randint(low=0, high=shape[1])\n",
    "    rand_bool = np.random.randint(0,2)\n",
    "    if rand_bool == 0:\n",
    "        rand_x = np.random.randint(low=0, high=max_x)\n",
    "    else:\n",
    "        rand_x = np.random.randint(low=(shape[0]-max_x), high=shape[0])\n",
    "    size = np.random.randint(low=1, high=7) #size of each side of box\n",
    "    new_image[rand_x:(size+rand_x), rand_y:(size+rand_y), :] = np.random.randint(0,256)\n",
    "    return new_image\n",
    "\n",
    "def shift(image, max_amt=0.2):\n",
    "    new_img = np.copy(image)\n",
    "    shape = new_img.shape\n",
    "    max_x = int(shape[0] * max_amt)\n",
    "    max_y = int(shape[1] * max_amt)\n",
    "    x = np.random.randint(low=-max_x, high=max_x)\n",
    "    y = np.random.randint(low=-max_y, high=max_y)\n",
    "    return ndimage.interpolation.shift(new_img,shift=[x,y,0])\n",
    "\n",
    "def addNoise(image, amt=0.005):\n",
    "    noise_mask = np.random.poisson(image / 255.0 * amt) / amt * 255\n",
    "    noisy_img = image + (noise_mask)\n",
    "    return np.array(np.clip(noisy_img, a_min=0., a_max=255.), dtype=np.uint8)\n",
    "\n",
    "def rotate(image):\n",
    "    randnum = np.random.randint(1,360)\n",
    "    new_image = np.copy(image)\n",
    "    return ndimage.rotate(new_image, angle=randnum, reshape=False)\n",
    "\n",
    "#randomly manipulates image\n",
    "#rotate, flip along axis, add blotch, shift\n",
    "def augment(images, labels=None, amplify=2):\n",
    "    # INPUT:\n",
    "    #images shape: (batch_size, height, width, channels=3)\n",
    "    #labels shape: (batch_size, 3)\n",
    "    ops = {\n",
    "        0: shift,\n",
    "        1: rotate,\n",
    "        2: addNoise,\n",
    "        3: addBlotch\n",
    "    }\n",
    "\n",
    "    shape = images.shape\n",
    "    new_images = np.zeros(((amplify*shape[0]), shape[1], shape[2], shape[3]))\n",
    "    if labels is not None:\n",
    "        new_labels = np.zeros(((amplify*shape[0]), 7))\n",
    "    for i in range(images.shape[0]):\n",
    "        cur_img = np.copy(images[i])\n",
    "        new_images[i] = cur_img\n",
    "        if labels is not None:\n",
    "            new_labels[i] = np.copy(labels[i])\n",
    "        for j in range(1, amplify):\n",
    "            add_r = ( j * shape[0] )\n",
    "            which_op = np.random.randint(low=0, high=1)\n",
    "            dup_img = np.zeros((1,shape[1], shape[2], shape[3]))\n",
    "            new_images[i+add_r] = ops[which_op](cur_img)\n",
    "            if labels is not None:\n",
    "                new_labels[i+add_r] = np.copy(labels[i])\n",
    "    if labels is not None:\n",
    "        return new_images.astype(np.uint8), new_labels.astype(np.uint8)\n",
    "    else:\n",
    "        return new_images.astype(np.uint8)"
   ]
  },
  {
   "cell_type": "code",
   "execution_count": 4,
   "metadata": {},
   "outputs": [],
   "source": [
    "\n",
    "# # NOTE\n",
    "# # Images are assumed to be uint8 0-255 valued.\n",
    "# # For augment function:\n",
    "# #   images shape: (batch_size, height, width, channels=3)\n",
    "# #   labels shape: (batch_size, 3)\n",
    "\n",
    "# def addBlotch(image, max_dims=[0.2,0.2]):\n",
    "#     #add's small black/white box randomly in periphery of image\n",
    "#     new_image = np.copy(image)\n",
    "#     shape = new_image.shape\n",
    "#     max_x = shape[0] * max_dims[0]\n",
    "#     max_y = shape[1] * max_dims[1]\n",
    "#     rand_x = 0\n",
    "#     rand_y = np.random.randint(low=0, high=shape[1])\n",
    "#     rand_bool = np.random.randint(0,2)\n",
    "#     if rand_bool == 0:\n",
    "#         rand_x = np.random.randint(low=0, high=max_x)\n",
    "#     else:\n",
    "#         rand_x = np.random.randint(low=(shape[0]-max_x), high=shape[0])\n",
    "#     size = np.random.randint(low=1, high=7) #size of each side of box\n",
    "#     new_image[rand_x:(size+rand_x), rand_y:(size+rand_y), :] = np.random.randint(0,256)\n",
    "#     return new_image\n",
    "\n",
    "# def shift(image, max_amt=0.2):\n",
    "#     new_img = np.copy(image)\n",
    "#     shape = new_img.shape\n",
    "#     max_x = int(shape[0] * max_amt)\n",
    "#     max_y = int(shape[1] * max_amt)\n",
    "#     x = np.random.randint(low=-max_x, high=max_x)\n",
    "#     y = np.random.randint(low=-max_y, high=max_y)\n",
    "#     return ndimage.interpolation.shift(new_img,shift=[x,y,0])\n",
    "\n",
    "# def addNoise(image, amt=0.005):\n",
    "#     noise_mask = np.random.poisson(image / 255.0 * amt) / amt * 255\n",
    "#     noisy_img = image + (noise_mask)\n",
    "#     return np.array(np.clip(noisy_img, a_min=0., a_max=255.), dtype=np.uint8)\n",
    "\n",
    "# def rotate(image):\n",
    "#     randnum = np.random.randint(1,360)\n",
    "#     new_image = np.copy(image)\n",
    "#     return ndimage.rotate(new_image, angle=randnum, reshape=False)\n",
    "\n",
    "# #randomly manipulates image\n",
    "# #rotate, flip along axis, add blotch, shift\n",
    "# def augment(images, labels=None, amplify=2):\n",
    "#     # INPUT:\n",
    "#     #images shape: (batch_size, height, width, channels=3)\n",
    "#     #labels shape: (batch_size, 3)\n",
    "#     ops = {\n",
    "#         0: addBlotch,\n",
    "#         1: shift,\n",
    "#         2: addNoise,\n",
    "#         3: rotate\n",
    "#     }\n",
    "#     shape = images.shape\n",
    "#     new_images = np.zeros(((org_images_shape[0]+(amplify-1)*shape[0]), shape[1], shape[2], shape[3]))\n",
    "#     if labels is not None:\n",
    "#         new_labels = np.zeros(((org_images_shape[0]+(amplify-1)*shape[0]), 7))\n",
    "#     for i in range(images.shape[0]):\n",
    "#         cur_img = np.copy(images[i])\n",
    "#         new_images[org_images_shape[0]+i] = cur_img\n",
    "#         if labels is not None:\n",
    "#             new_labels[org_gt_shape[0]+i] = np.copy(labels[i])\n",
    "#         for j in range(1, amplify-1):\n",
    "#             add_r = ( j * shape[0] )\n",
    "#             which_op = np.random.randint(low=0, high=4)\n",
    "#             dup_img = np.zeros((1,shape[1], shape[2], shape[3]))\n",
    "#             new_images[org_images_shape[0]+i+add_r] = ops[which_op](cur_img)   # augmentation part\n",
    "#             if labels is not None:\n",
    "#                 new_labels[org_images_shape[0]+i+add_r] = np.copy(labels[i])\n",
    "#     if labels is not None:\n",
    "#         return new_images.astype(np.uint8), new_labels.astype(np.uint8)\n",
    "#     else:\n",
    "#         return new_images.astype(np.uint8)"
   ]
  },
  {
   "cell_type": "code",
   "execution_count": 3,
   "metadata": {},
   "outputs": [],
   "source": [
    "\n",
    "import matplotlib.pyplot as plt\n",
    "import numpy as np\n",
    "%matplotlib inline"
   ]
  },
  {
   "cell_type": "code",
   "execution_count": 4,
   "metadata": {},
   "outputs": [],
   "source": [
    "import numpy as np\n",
    "import scipy.io as scio    \n",
    "import os,re\n",
    "from PIL import Image\n",
    "from scipy import ndimage\n",
    "from matplotlib import pyplot as plt\n",
    "import cv2"
   ]
  },
  {
   "cell_type": "code",
   "execution_count": 5,
   "metadata": {},
   "outputs": [],
   "source": [
    "IMAGE_SIZE = 299"
   ]
  },
  {
   "cell_type": "code",
   "execution_count": 6,
   "metadata": {},
   "outputs": [],
   "source": [
    "def atoi(text) : \n",
    "    return int(text) if text.isdigit() else text"
   ]
  },
  {
   "cell_type": "code",
   "execution_count": 7,
   "metadata": {},
   "outputs": [],
   "source": [
    "def natural_keys(text) :\n",
    "    return [atoi(c) for c in re.split('(\\d+)', text)]"
   ]
  },
  {
   "cell_type": "code",
   "execution_count": 8,
   "metadata": {},
   "outputs": [],
   "source": [
    "def get_filenames(path):\n",
    "    filenames = []\n",
    "    for root, dirnames, filenames in os.walk(path):\n",
    "        filenames.sort(key = natural_keys)\n",
    "        rootpath = root\n",
    "    print(len(filenames))\n",
    "    return filenames"
   ]
  },
  {
   "cell_type": "code",
   "execution_count": 9,
   "metadata": {},
   "outputs": [],
   "source": [
    "root_path = \"/data01/syh/ISIC2018/\""
   ]
  },
  {
   "cell_type": "code",
   "execution_count": null,
   "metadata": {},
   "outputs": [],
   "source": []
  },
  {
   "cell_type": "code",
   "execution_count": 12,
   "metadata": {},
   "outputs": [],
   "source": [
    "images_MEL=np.load(root_path+'/train_images_task3_299_MEL.npy')"
   ]
  },
  {
   "cell_type": "code",
   "execution_count": 13,
   "metadata": {},
   "outputs": [],
   "source": [
    "images_NV=np.load(root_path+'/train_images_task3_299_NV.npy')"
   ]
  },
  {
   "cell_type": "code",
   "execution_count": 14,
   "metadata": {},
   "outputs": [],
   "source": [
    "images_BCC=np.load(root_path+'/train_images_task3_299_BCC.npy')"
   ]
  },
  {
   "cell_type": "code",
   "execution_count": 15,
   "metadata": {},
   "outputs": [],
   "source": [
    "images_AKIEC=np.load(root_path+'/train_images_task3_299_AKIEC.npy')"
   ]
  },
  {
   "cell_type": "code",
   "execution_count": 16,
   "metadata": {},
   "outputs": [],
   "source": [
    "images_BKL=np.load(root_path+'/train_images_task3_299_BKL.npy')"
   ]
  },
  {
   "cell_type": "code",
   "execution_count": 17,
   "metadata": {},
   "outputs": [],
   "source": [
    "images_DF=np.load(root_path+'/train_images_task3_299_DF.npy')"
   ]
  },
  {
   "cell_type": "code",
   "execution_count": 18,
   "metadata": {},
   "outputs": [],
   "source": [
    "images_VASC=np.load(root_path+'/train_images_task3_299_VASC.npy')"
   ]
  },
  {
   "cell_type": "code",
   "execution_count": 19,
   "metadata": {},
   "outputs": [
    {
     "ename": "IOError",
     "evalue": "[Errno 2] No such file or directory: 'gt_labels_Task3_299_MEL.npy'",
     "output_type": "error",
     "traceback": [
      "\u001b[0;31m---------------------------------------------------------------------------\u001b[0m",
      "\u001b[0;31mIOError\u001b[0m                                   Traceback (most recent call last)",
      "\u001b[0;32m<ipython-input-19-89da816fb803>\u001b[0m in \u001b[0;36m<module>\u001b[0;34m()\u001b[0m\n\u001b[0;32m----> 1\u001b[0;31m \u001b[0mgt_MEL\u001b[0m\u001b[0;34m=\u001b[0m\u001b[0mnp\u001b[0m\u001b[0;34m.\u001b[0m\u001b[0mload\u001b[0m\u001b[0;34m(\u001b[0m\u001b[0;34m'gt_labels_Task3_%d_MEL.npy'\u001b[0m\u001b[0;34m%\u001b[0m\u001b[0mIMAGE_SIZE\u001b[0m\u001b[0;34m)\u001b[0m\u001b[0;34m\u001b[0m\u001b[0m\n\u001b[0m\u001b[1;32m      2\u001b[0m \u001b[0mgt_NV\u001b[0m\u001b[0;34m=\u001b[0m\u001b[0mnp\u001b[0m\u001b[0;34m.\u001b[0m\u001b[0mload\u001b[0m\u001b[0;34m(\u001b[0m\u001b[0;34m'gt_labels_Task3_%d_NV.npy'\u001b[0m\u001b[0;34m%\u001b[0m\u001b[0mIMAGE_SIZE\u001b[0m\u001b[0;34m)\u001b[0m\u001b[0;34m\u001b[0m\u001b[0m\n\u001b[1;32m      3\u001b[0m \u001b[0mgt_BCC\u001b[0m\u001b[0;34m=\u001b[0m\u001b[0mnp\u001b[0m\u001b[0;34m.\u001b[0m\u001b[0mload\u001b[0m\u001b[0;34m(\u001b[0m\u001b[0;34m'gt_labels_Task3_%d_BCC.npy'\u001b[0m\u001b[0;34m%\u001b[0m\u001b[0mIMAGE_SIZE\u001b[0m\u001b[0;34m)\u001b[0m\u001b[0;34m\u001b[0m\u001b[0m\n\u001b[1;32m      4\u001b[0m \u001b[0mgt_AKIEC\u001b[0m\u001b[0;34m=\u001b[0m\u001b[0mnp\u001b[0m\u001b[0;34m.\u001b[0m\u001b[0mload\u001b[0m\u001b[0;34m(\u001b[0m\u001b[0;34m'gt_labels_Task3_%d_AKIEC.npy'\u001b[0m\u001b[0;34m%\u001b[0m\u001b[0mIMAGE_SIZE\u001b[0m\u001b[0;34m)\u001b[0m\u001b[0;34m\u001b[0m\u001b[0m\n\u001b[1;32m      5\u001b[0m \u001b[0mgt_BKL\u001b[0m\u001b[0;34m=\u001b[0m\u001b[0mnp\u001b[0m\u001b[0;34m.\u001b[0m\u001b[0mload\u001b[0m\u001b[0;34m(\u001b[0m\u001b[0;34m'gt_labels_Task3_%d_BKL.npy'\u001b[0m\u001b[0;34m%\u001b[0m\u001b[0mIMAGE_SIZE\u001b[0m\u001b[0;34m)\u001b[0m\u001b[0;34m\u001b[0m\u001b[0m\n",
      "\u001b[0;32m/home/wonjae/anaconda2/lib/python2.7/site-packages/numpy/lib/npyio.pyc\u001b[0m in \u001b[0;36mload\u001b[0;34m(file, mmap_mode, allow_pickle, fix_imports, encoding)\u001b[0m\n\u001b[1;32m    370\u001b[0m     \u001b[0mown_fid\u001b[0m \u001b[0;34m=\u001b[0m \u001b[0mFalse\u001b[0m\u001b[0;34m\u001b[0m\u001b[0m\n\u001b[1;32m    371\u001b[0m     \u001b[0;32mif\u001b[0m \u001b[0misinstance\u001b[0m\u001b[0;34m(\u001b[0m\u001b[0mfile\u001b[0m\u001b[0;34m,\u001b[0m \u001b[0mbasestring\u001b[0m\u001b[0;34m)\u001b[0m\u001b[0;34m:\u001b[0m\u001b[0;34m\u001b[0m\u001b[0m\n\u001b[0;32m--> 372\u001b[0;31m         \u001b[0mfid\u001b[0m \u001b[0;34m=\u001b[0m \u001b[0mopen\u001b[0m\u001b[0;34m(\u001b[0m\u001b[0mfile\u001b[0m\u001b[0;34m,\u001b[0m \u001b[0;34m\"rb\"\u001b[0m\u001b[0;34m)\u001b[0m\u001b[0;34m\u001b[0m\u001b[0m\n\u001b[0m\u001b[1;32m    373\u001b[0m         \u001b[0mown_fid\u001b[0m \u001b[0;34m=\u001b[0m \u001b[0mTrue\u001b[0m\u001b[0;34m\u001b[0m\u001b[0m\n\u001b[1;32m    374\u001b[0m     \u001b[0;32melif\u001b[0m \u001b[0mis_pathlib_path\u001b[0m\u001b[0;34m(\u001b[0m\u001b[0mfile\u001b[0m\u001b[0;34m)\u001b[0m\u001b[0;34m:\u001b[0m\u001b[0;34m\u001b[0m\u001b[0m\n",
      "\u001b[0;31mIOError\u001b[0m: [Errno 2] No such file or directory: 'gt_labels_Task3_299_MEL.npy'"
     ]
    }
   ],
   "source": [
    "gt_MEL=np.load('gt_labels_Task3_%d_MEL.npy'%IMAGE_SIZE)\n",
    "gt_NV=np.load('gt_labels_Task3_%d_NV.npy'%IMAGE_SIZE)\n",
    "gt_BCC=np.load('gt_labels_Task3_%d_BCC.npy'%IMAGE_SIZE)\n",
    "gt_AKIEC=np.load('gt_labels_Task3_%d_AKIEC.npy'%IMAGE_SIZE)\n",
    "gt_BKL=np.load('gt_labels_Task3_%d_BKL.npy'%IMAGE_SIZE)\n",
    "gt_DF=np.load('gt_labels_Task3_%d_DF.npy'%IMAGE_SIZE)\n",
    "gt_VASC=np.load('gt_labels_Task3_%d_VASC.npy'%IMAGE_SIZE)\n"
   ]
  },
  {
   "cell_type": "code",
   "execution_count": 19,
   "metadata": {},
   "outputs": [],
   "source": [
    "MEL=np.array([1.0,0.0,0.0,0.0,0.0,0.0,0.0])\n",
    "NV=np.array([0.0,1.0,0.0,0.0,0.0,0.0,0.0])\n",
    "BCC=np.array([0.0,0.0,1.0,0.0,0.0,0.0,0.0])\n",
    "AKIEC=np.array([0.0,0.0,0.0,1.0,0.0,0.0,0.0])\n",
    "BKL=np.array([0.0,0.0,0.0,0.0,1.0,0.0,0.0])\n",
    "DF=np.array([0.0,0.0,0.0,0.0,0.0,1.0,0.0])\n",
    "VASC=np.array([0.0,0.0,0.0,0.0,0.0,0.0,1.0])"
   ]
  },
  {
   "cell_type": "code",
   "execution_count": 20,
   "metadata": {},
   "outputs": [],
   "source": [
    "gt_MEL=np.zeros((1113, 7))\n",
    "gt_NV=np.zeros((6705, 7))\n",
    "gt_BCC=np.zeros((514, 7))\n",
    "gt_AKIEC=np.zeros((327, 7))\n",
    "gt_BKL=np.zeros((1099, 7))\n",
    "gt_DF=np.zeros((115, 7))\n",
    "gt_VASC=np.zeros((142, 7))"
   ]
  },
  {
   "cell_type": "code",
   "execution_count": 21,
   "metadata": {},
   "outputs": [],
   "source": [
    "for i in range(len(gt_MEL)) :\n",
    "    gt_MEL[i]=MEL\n",
    "for i in range(len(gt_NV)) :\n",
    "    gt_NV[i]=NV\n",
    "for i in range(len(gt_BCC)) :\n",
    "    gt_BCC[i]=BCC\n",
    "for i in range(len(gt_AKIEC)) :\n",
    "    gt_AKIEC[i]=AKIEC\n",
    "for i in range(len(gt_BKL)) :\n",
    "    gt_BKL[i]=BKL\n",
    "for i in range(len(gt_DF)) :\n",
    "    gt_DF[i]=DF\n",
    "for i in range(len(gt_VASC)) :\n",
    "    gt_VASC[i]=VASC"
   ]
  },
  {
   "cell_type": "code",
   "execution_count": 23,
   "metadata": {},
   "outputs": [],
   "source": [
    "img_MEL_seg=np.load('train_task3_seg_MEL.npy')\n",
    "img_NV_seg=np.load('train_task3_seg_NV.npy')\n",
    "img_BCC_seg=np.load('train_task3_seg_BCC.npy')\n",
    "img_AKIEC_seg=np.load('train_task3_seg_AKIEC.npy')\n",
    "img_BKL_seg=np.load('train_task3_seg_BKL.npy')\n",
    "img_DF_seg=np.load('train_task3_seg_DF.npy')\n",
    "img_VASC_seg=np.load('train_task3_seg_VASC.npy')"
   ]
  },
  {
   "cell_type": "code",
   "execution_count": 24,
   "metadata": {},
   "outputs": [],
   "source": [
    "img_MEL_seg=np.uint8(img_MEL_seg)\n",
    "img_NV_seg=np.uint8(img_NV_seg)\n",
    "img_BCC_seg=np.uint8(img_BCC_seg)\n",
    "img_AKIEC_seg=np.uint8(img_AKIEC_seg)\n",
    "img_BKL_seg=np.uint8(img_BKL_seg)\n",
    "img_DF_seg=np.uint8(img_DF_seg)\n",
    "img_VASC_seg=np.uint8(img_VASC_seg)"
   ]
  },
  {
   "cell_type": "code",
   "execution_count": 24,
   "metadata": {},
   "outputs": [],
   "source": [
    "np.save('train_task3_seg_MEL.npy',img_MEL_seg)\n",
    "np.save('train_task3_seg_NV.npy',img_NV_seg)\n",
    "np.save('train_task3_seg_BCC.npy',img_BCC_seg)\n",
    "np.save('train_task3_seg_AKIEC.npy',img_AKIEC_seg)\n",
    "np.save('train_task3_seg_BKL.npy',img_BKL_seg)\n",
    "np.save('train_task3_seg_DF.npy',img_DF_seg)\n",
    "np.save('train_task3_seg_VASC.npy',img_VASC_seg)"
   ]
  },
  {
   "cell_type": "code",
   "execution_count": 23,
   "metadata": {},
   "outputs": [
    {
     "data": {
      "text/plain": [
       "(7,)"
      ]
     },
     "execution_count": 23,
     "metadata": {},
     "output_type": "execute_result"
    }
   ],
   "source": [
    "MEL.shape"
   ]
  },
  {
   "cell_type": "code",
   "execution_count": 18,
   "metadata": {},
   "outputs": [
    {
     "data": {
      "text/plain": [
       "array([[[0., 0., 0., ..., 0., 0., 0.],\n",
       "        [0., 0., 0., ..., 0., 0., 0.],\n",
       "        [0., 0., 0., ..., 0., 0., 0.],\n",
       "        ...,\n",
       "        [0., 0., 0., ..., 0., 0., 0.],\n",
       "        [0., 0., 0., ..., 0., 0., 0.],\n",
       "        [0., 0., 0., ..., 0., 0., 0.]],\n",
       "\n",
       "       [[0., 0., 0., ..., 0., 0., 0.],\n",
       "        [0., 0., 0., ..., 0., 0., 0.],\n",
       "        [0., 0., 0., ..., 0., 0., 0.],\n",
       "        ...,\n",
       "        [0., 0., 0., ..., 0., 0., 0.],\n",
       "        [0., 0., 0., ..., 0., 0., 0.],\n",
       "        [0., 0., 0., ..., 0., 0., 0.]],\n",
       "\n",
       "       [[0., 0., 0., ..., 0., 0., 0.],\n",
       "        [0., 0., 0., ..., 0., 0., 0.],\n",
       "        [0., 0., 0., ..., 0., 0., 0.],\n",
       "        ...,\n",
       "        [0., 0., 0., ..., 0., 0., 0.],\n",
       "        [0., 0., 0., ..., 0., 0., 0.],\n",
       "        [0., 0., 0., ..., 0., 0., 0.]],\n",
       "\n",
       "       ...,\n",
       "\n",
       "       [[0., 0., 0., ..., 0., 0., 0.],\n",
       "        [0., 0., 0., ..., 0., 0., 0.],\n",
       "        [0., 0., 0., ..., 0., 0., 0.],\n",
       "        ...,\n",
       "        [0., 0., 0., ..., 0., 0., 0.],\n",
       "        [0., 0., 0., ..., 0., 0., 0.],\n",
       "        [0., 0., 0., ..., 0., 0., 0.]],\n",
       "\n",
       "       [[0., 0., 0., ..., 0., 0., 0.],\n",
       "        [0., 0., 0., ..., 0., 0., 0.],\n",
       "        [0., 0., 0., ..., 0., 0., 0.],\n",
       "        ...,\n",
       "        [0., 0., 0., ..., 0., 0., 0.],\n",
       "        [0., 0., 0., ..., 0., 0., 0.],\n",
       "        [0., 0., 0., ..., 0., 0., 0.]],\n",
       "\n",
       "       [[0., 0., 0., ..., 0., 0., 0.],\n",
       "        [0., 0., 0., ..., 0., 0., 0.],\n",
       "        [0., 0., 0., ..., 0., 0., 0.],\n",
       "        ...,\n",
       "        [0., 0., 0., ..., 0., 0., 0.],\n",
       "        [0., 0., 0., ..., 0., 0., 0.],\n",
       "        [0., 0., 0., ..., 0., 0., 0.]]])"
      ]
     },
     "execution_count": 18,
     "metadata": {},
     "output_type": "execute_result"
    }
   ],
   "source": [
    "img_MEL_seg"
   ]
  },
  {
   "cell_type": "code",
   "execution_count": 25,
   "metadata": {},
   "outputs": [
    {
     "data": {
      "text/plain": [
       "array([[[[ 73,  31,  35],\n",
       "         [ 73,  30,  37],\n",
       "         [ 72,  31,  37],\n",
       "         ...,\n",
       "         [ 76,  30,  32],\n",
       "         [ 75,  31,  32],\n",
       "         [ 75,  31,  32]],\n",
       "\n",
       "        [[ 75,  32,  39],\n",
       "         [ 74,  31,  38],\n",
       "         [ 73,  32,  38],\n",
       "         ...,\n",
       "         [ 76,  30,  32],\n",
       "         [ 75,  31,  32],\n",
       "         [ 75,  31,  32]],\n",
       "\n",
       "        [[ 75,  32,  39],\n",
       "         [ 74,  33,  39],\n",
       "         [ 74,  33,  39],\n",
       "         ...,\n",
       "         [ 76,  30,  32],\n",
       "         [ 75,  31,  32],\n",
       "         [ 75,  31,  32]],\n",
       "\n",
       "        ...,\n",
       "\n",
       "        [[ 75,  34,  40],\n",
       "         [ 76,  35,  41],\n",
       "         [ 77,  34,  41],\n",
       "         ...,\n",
       "         [ 70,  32,  43],\n",
       "         [ 70,  32,  43],\n",
       "         [ 72,  32,  41]],\n",
       "\n",
       "        [[ 75,  34,  40],\n",
       "         [ 75,  34,  40],\n",
       "         [ 77,  34,  41],\n",
       "         ...,\n",
       "         [ 70,  32,  43],\n",
       "         [ 72,  32,  43],\n",
       "         [ 72,  32,  41]],\n",
       "\n",
       "        [[ 75,  34,  40],\n",
       "         [ 75,  34,  40],\n",
       "         [ 77,  34,  41],\n",
       "         ...,\n",
       "         [ 72,  32,  43],\n",
       "         [ 72,  32,  43],\n",
       "         [ 72,  32,  43]]],\n",
       "\n",
       "\n",
       "       [[[179, 137, 149],\n",
       "         [182, 140, 152],\n",
       "         [185, 143, 155],\n",
       "         ...,\n",
       "         [185, 138, 154],\n",
       "         [184, 137, 153],\n",
       "         [181, 137, 152]],\n",
       "\n",
       "        [[185, 143, 155],\n",
       "         [187, 145, 157],\n",
       "         [188, 146, 158],\n",
       "         ...,\n",
       "         [185, 138, 154],\n",
       "         [181, 137, 152],\n",
       "         [180, 136, 151]],\n",
       "\n",
       "        [[190, 148, 160],\n",
       "         [191, 149, 161],\n",
       "         [191, 149, 161],\n",
       "         ...,\n",
       "         [182, 138, 153],\n",
       "         [181, 137, 152],\n",
       "         [179, 135, 150]],\n",
       "\n",
       "        ...,\n",
       "\n",
       "        [[188, 149, 168],\n",
       "         [188, 149, 168],\n",
       "         [189, 150, 169],\n",
       "         ...,\n",
       "         [188, 151, 169],\n",
       "         [188, 151, 169],\n",
       "         [189, 152, 170]],\n",
       "\n",
       "        [[187, 148, 167],\n",
       "         [188, 149, 168],\n",
       "         [189, 150, 169],\n",
       "         ...,\n",
       "         [188, 151, 169],\n",
       "         [188, 151, 169],\n",
       "         [188, 151, 169]],\n",
       "\n",
       "        [[186, 147, 166],\n",
       "         [188, 149, 168],\n",
       "         [190, 151, 170],\n",
       "         ...,\n",
       "         [187, 150, 168],\n",
       "         [188, 151, 169],\n",
       "         [188, 151, 169]]],\n",
       "\n",
       "\n",
       "       [[[141, 124, 140],\n",
       "         [147, 129, 145],\n",
       "         [150, 132, 148],\n",
       "         ...,\n",
       "         [100,  77,  95],\n",
       "         [ 95,  72,  90],\n",
       "         [ 90,  67,  85]],\n",
       "\n",
       "        [[142, 125, 141],\n",
       "         [147, 129, 145],\n",
       "         [150, 132, 148],\n",
       "         ...,\n",
       "         [101,  78,  96],\n",
       "         [ 96,  73,  91],\n",
       "         [ 92,  69,  87]],\n",
       "\n",
       "        [[146, 128, 144],\n",
       "         [147, 129, 145],\n",
       "         [149, 131, 147],\n",
       "         ...,\n",
       "         [102,  79,  95],\n",
       "         [ 97,  74,  92],\n",
       "         [ 93,  70,  88]],\n",
       "\n",
       "        ...,\n",
       "\n",
       "        [[ 31,  20,  34],\n",
       "         [ 34,  23,  37],\n",
       "         [ 39,  28,  42],\n",
       "         ...,\n",
       "         [ 29,  18,  26],\n",
       "         [ 29,  18,  26],\n",
       "         [ 29,  18,  26]],\n",
       "\n",
       "        [[ 28,  17,  31],\n",
       "         [ 31,  20,  34],\n",
       "         [ 36,  25,  39],\n",
       "         ...,\n",
       "         [ 29,  18,  26],\n",
       "         [ 29,  18,  26],\n",
       "         [ 29,  18,  26]],\n",
       "\n",
       "        [[ 24,  16,  29],\n",
       "         [ 27,  19,  32],\n",
       "         [ 31,  23,  36],\n",
       "         ...,\n",
       "         [ 29,  18,  26],\n",
       "         [ 29,  18,  26],\n",
       "         [ 29,  18,  26]]],\n",
       "\n",
       "\n",
       "       ...,\n",
       "\n",
       "\n",
       "       [[[187, 164, 182],\n",
       "         [187, 164, 182],\n",
       "         [188, 164, 180],\n",
       "         ...,\n",
       "         [217, 196, 215],\n",
       "         [216, 195, 214],\n",
       "         [213, 192, 209]],\n",
       "\n",
       "        [[190, 167, 185],\n",
       "         [189, 166, 182],\n",
       "         [189, 165, 181],\n",
       "         ...,\n",
       "         [219, 198, 217],\n",
       "         [217, 196, 215],\n",
       "         [216, 195, 212]],\n",
       "\n",
       "        [[194, 171, 189],\n",
       "         [192, 169, 185],\n",
       "         [190, 166, 182],\n",
       "         ...,\n",
       "         [214, 193, 210],\n",
       "         [213, 192, 211],\n",
       "         [212, 191, 208]],\n",
       "\n",
       "        ...,\n",
       "\n",
       "        [[182, 154, 168],\n",
       "         [183, 155, 169],\n",
       "         [183, 157, 170],\n",
       "         ...,\n",
       "         [190, 157, 164],\n",
       "         [190, 157, 164],\n",
       "         [190, 157, 164]],\n",
       "\n",
       "        [[181, 153, 167],\n",
       "         [182, 154, 168],\n",
       "         [183, 155, 169],\n",
       "         ...,\n",
       "         [191, 158, 165],\n",
       "         [191, 158, 165],\n",
       "         [192, 159, 166]],\n",
       "\n",
       "        [[182, 152, 164],\n",
       "         [183, 153, 165],\n",
       "         [184, 154, 166],\n",
       "         ...,\n",
       "         [190, 157, 164],\n",
       "         [191, 158, 165],\n",
       "         [193, 160, 167]]],\n",
       "\n",
       "\n",
       "       [[[ 59,  32,  37],\n",
       "         [ 61,  34,  39],\n",
       "         [ 64,  38,  41],\n",
       "         ...,\n",
       "         [ 53,  31,  34],\n",
       "         [ 49,  26,  32],\n",
       "         [ 45,  24,  29]],\n",
       "\n",
       "        [[ 61,  34,  39],\n",
       "         [ 63,  37,  40],\n",
       "         [ 67,  38,  42],\n",
       "         ...,\n",
       "         [ 54,  32,  35],\n",
       "         [ 51,  28,  34],\n",
       "         [ 47,  26,  31]],\n",
       "\n",
       "        [[ 64,  37,  42],\n",
       "         [ 65,  39,  42],\n",
       "         [ 69,  40,  44],\n",
       "         ...,\n",
       "         [ 57,  35,  38],\n",
       "         [ 53,  31,  34],\n",
       "         [ 49,  28,  33]],\n",
       "\n",
       "        ...,\n",
       "\n",
       "        [[101,  62,  63],\n",
       "         [104,  66,  65],\n",
       "         [108,  70,  69],\n",
       "         ...,\n",
       "         [ 98,  69,  74],\n",
       "         [ 95,  64,  69],\n",
       "         [ 91,  60,  65]],\n",
       "\n",
       "        [[100,  61,  62],\n",
       "         [102,  63,  64],\n",
       "         [106,  68,  67],\n",
       "         ...,\n",
       "         [ 97,  68,  73],\n",
       "         [ 94,  63,  69],\n",
       "         [ 90,  59,  65]],\n",
       "\n",
       "        [[ 99,  60,  61],\n",
       "         [101,  62,  63],\n",
       "         [104,  65,  66],\n",
       "         ...,\n",
       "         [ 96,  67,  72],\n",
       "         [ 92,  63,  68],\n",
       "         [ 89,  58,  64]]],\n",
       "\n",
       "\n",
       "       [[[210, 202, 199],\n",
       "         [209, 201, 199],\n",
       "         [209, 201, 199],\n",
       "         ...,\n",
       "         [194, 185, 186],\n",
       "         [199, 190, 191],\n",
       "         [204, 195, 196]],\n",
       "\n",
       "        [[209, 201, 199],\n",
       "         [209, 201, 199],\n",
       "         [208, 200, 198],\n",
       "         ...,\n",
       "         [197, 188, 189],\n",
       "         [201, 192, 193],\n",
       "         [206, 197, 198]],\n",
       "\n",
       "        [[207, 199, 197],\n",
       "         [208, 200, 198],\n",
       "         [208, 200, 198],\n",
       "         ...,\n",
       "         [202, 193, 194],\n",
       "         [205, 196, 197],\n",
       "         [208, 199, 200]],\n",
       "\n",
       "        ...,\n",
       "\n",
       "        [[210, 201, 202],\n",
       "         [211, 202, 203],\n",
       "         [211, 202, 203],\n",
       "         ...,\n",
       "         [220, 209, 215],\n",
       "         [220, 209, 215],\n",
       "         [220, 209, 215]],\n",
       "\n",
       "        [[210, 201, 204],\n",
       "         [211, 202, 205],\n",
       "         [212, 203, 206],\n",
       "         ...,\n",
       "         [220, 209, 215],\n",
       "         [220, 209, 215],\n",
       "         [220, 209, 215]],\n",
       "\n",
       "        [[211, 202, 205],\n",
       "         [211, 202, 205],\n",
       "         [212, 203, 206],\n",
       "         ...,\n",
       "         [221, 208, 215],\n",
       "         [221, 208, 215],\n",
       "         [221, 208, 215]]]], dtype=uint8)"
      ]
     },
     "execution_count": 25,
     "metadata": {},
     "output_type": "execute_result"
    }
   ],
   "source": [
    "images_MEL"
   ]
  },
  {
   "cell_type": "code",
   "execution_count": 25,
   "metadata": {},
   "outputs": [],
   "source": [
    "img_MEL_seg_reshape=img_MEL_seg.reshape(len(img_MEL_seg),299,299,1)\n",
    "img_NV_seg_reshape=img_NV_seg.reshape(len(img_NV_seg),299,299,1)\n",
    "img_BCC_seg_reshape=img_BCC_seg.reshape(len(img_BCC_seg),299,299,1)\n",
    "img_AKIEC_seg_reshape=img_AKIEC_seg.reshape(len(img_AKIEC_seg),299,299,1)\n",
    "img_BKL_seg_reshape=img_BKL_seg.reshape(len(img_BKL_seg),299,299,1)\n",
    "img_DF_seg_reshape=img_DF_seg.reshape(len(img_DF_seg),299,299,1)\n",
    "img_VASC_seg_reshape=img_VASC_seg.reshape(len(img_VASC_seg),299,299,1)\n"
   ]
  },
  {
   "cell_type": "code",
   "execution_count": 26,
   "metadata": {},
   "outputs": [],
   "source": [
    " # image+segment merge to 4-channel\n",
    "img_MEL_seg_reshape_merge=np.concatenate((images_MEL,img_MEL_seg_reshape),axis=3)\n",
    "img_NV_seg_reshape_merge=np.concatenate((images_NV,img_NV_seg_reshape),axis=3)\n",
    "img_BCC_seg_reshape_merge=np.concatenate((images_BCC,img_BCC_seg_reshape),axis=3)\n",
    "img_AKIEC_seg_reshape_merge=np.concatenate((images_AKIEC,img_AKIEC_seg_reshape),axis=3)\n",
    "img_BKL_seg_reshape_merge=np.concatenate((images_BKL,img_BKL_seg_reshape),axis=3)\n",
    "img_DF_seg_reshape_merge=np.concatenate((images_DF,img_DF_seg_reshape),axis=3)\n",
    "img_VASC_seg_reshape_merge=np.concatenate((images_VASC,img_VASC_seg_reshape),axis=3)"
   ]
  },
  {
   "cell_type": "code",
   "execution_count": 28,
   "metadata": {},
   "outputs": [],
   "source": [
    " # image+segment merge to 4-channel\n",
    "del img_MEL_seg_reshape\n",
    "del img_NV_seg_reshape\n",
    "del img_BCC_seg_reshape\n",
    "del img_AKIEC_seg_reshape\n",
    "del img_BKL_seg_reshape\n",
    "del img_DF_seg_reshape\n",
    "del img_VASC_seg_reshape\n",
    "\n",
    "del images_MEL\n",
    "del images_NV\n",
    "del images_BCC\n",
    "del images_AKIEC\n",
    "del images_BKL\n",
    "del images_DF\n",
    "del images_VASC"
   ]
  },
  {
   "cell_type": "code",
   "execution_count": 29,
   "metadata": {},
   "outputs": [
    {
     "ename": "NameError",
     "evalue": "name 'images_MEL' is not defined",
     "output_type": "error",
     "traceback": [
      "\u001b[0;31m---------------------------------------------------------------------------\u001b[0m",
      "\u001b[0;31mNameError\u001b[0m                                 Traceback (most recent call last)",
      "\u001b[0;32m<ipython-input-29-021b77f66241>\u001b[0m in \u001b[0;36m<module>\u001b[0;34m()\u001b[0m\n\u001b[0;32m----> 1\u001b[0;31m \u001b[0mimages_MEL\u001b[0m\u001b[0;34m\u001b[0m\u001b[0m\n\u001b[0m",
      "\u001b[0;31mNameError\u001b[0m: name 'images_MEL' is not defined"
     ]
    }
   ],
   "source": [
    "images_MEL"
   ]
  },
  {
   "cell_type": "code",
   "execution_count": 30,
   "metadata": {},
   "outputs": [],
   "source": [
    "img_MEL_seg_reshape_merge_aug, gt_MEL_aug = augment(img_MEL_seg_reshape_merge,gt_MEL,amplify=6)\n",
    "img_BCC_seg_reshape_merge_aug, gt_BCC_aug = augment(img_BCC_seg_reshape_merge,gt_BCC, amplify=13)\n",
    "img_AKIEC_seg_reshape_merge_aug, gt_AKIEC_aug = augment(img_AKIEC_seg_reshape_merge,gt_AKIEC, amplify=20)\n",
    "img_BKL_seg_reshape_merge_aug, gt_BKL_aug = augment(img_BKL_seg_reshape_merge,gt_BKL, amplify=6)\n",
    "img_DF_seg_reshape_merge_aug, gt_DF_aug = augment(img_DF_seg_reshape_merge,gt_DF, amplify=58)\n",
    "img_VASC_seg_reshape_merge_aug, gt_VASC_aug = augment(img_VASC_seg_reshape_merge,gt_VASC, amplify=47)"
   ]
  },
  {
   "cell_type": "code",
   "execution_count": null,
   "metadata": {},
   "outputs": [],
   "source": [
    "del img_MEL_seg_reshape_merge\n",
    "del img_NV_seg_reshape_merge\n",
    "del img_BCC_seg_reshape_merge\n",
    "del img_AKIEC_seg_reshape_merge\n",
    "del img_BKL_seg_reshape_merge\n",
    "del img_DF_seg_reshape_merge\n",
    "del img_VASC_seg_reshape_merge"
   ]
  },
  {
   "cell_type": "code",
   "execution_count": 38,
   "metadata": {},
   "outputs": [],
   "source": [
    "kkk=img_MEL_seg.reshape(len(img_MEL_seg),299,299,1)"
   ]
  },
  {
   "cell_type": "code",
   "execution_count": 44,
   "metadata": {},
   "outputs": [],
   "source": [
    "x=np.concatenate((images_MEL,kkk),axis=3)"
   ]
  },
  {
   "cell_type": "code",
   "execution_count": 45,
   "metadata": {},
   "outputs": [
    {
     "data": {
      "text/plain": [
       "array([[[[ 73.,  31.,  35.,   0.],\n",
       "         [ 73.,  30.,  37.,   0.],\n",
       "         [ 72.,  31.,  37.,   0.],\n",
       "         ...,\n",
       "         [ 76.,  30.,  32.,   0.],\n",
       "         [ 75.,  31.,  32.,   0.],\n",
       "         [ 75.,  31.,  32.,   0.]],\n",
       "\n",
       "        [[ 75.,  32.,  39.,   0.],\n",
       "         [ 74.,  31.,  38.,   0.],\n",
       "         [ 73.,  32.,  38.,   0.],\n",
       "         ...,\n",
       "         [ 76.,  30.,  32.,   0.],\n",
       "         [ 75.,  31.,  32.,   0.],\n",
       "         [ 75.,  31.,  32.,   0.]],\n",
       "\n",
       "        [[ 75.,  32.,  39.,   0.],\n",
       "         [ 74.,  33.,  39.,   0.],\n",
       "         [ 74.,  33.,  39.,   0.],\n",
       "         ...,\n",
       "         [ 76.,  30.,  32.,   0.],\n",
       "         [ 75.,  31.,  32.,   0.],\n",
       "         [ 75.,  31.,  32.,   0.]],\n",
       "\n",
       "        ...,\n",
       "\n",
       "        [[ 75.,  34.,  40.,   0.],\n",
       "         [ 76.,  35.,  41.,   0.],\n",
       "         [ 77.,  34.,  41.,   0.],\n",
       "         ...,\n",
       "         [ 70.,  32.,  43.,   0.],\n",
       "         [ 70.,  32.,  43.,   0.],\n",
       "         [ 72.,  32.,  41.,   0.]],\n",
       "\n",
       "        [[ 75.,  34.,  40.,   0.],\n",
       "         [ 75.,  34.,  40.,   0.],\n",
       "         [ 77.,  34.,  41.,   0.],\n",
       "         ...,\n",
       "         [ 70.,  32.,  43.,   0.],\n",
       "         [ 72.,  32.,  43.,   0.],\n",
       "         [ 72.,  32.,  41.,   0.]],\n",
       "\n",
       "        [[ 75.,  34.,  40.,   0.],\n",
       "         [ 75.,  34.,  40.,   0.],\n",
       "         [ 77.,  34.,  41.,   0.],\n",
       "         ...,\n",
       "         [ 72.,  32.,  43.,   0.],\n",
       "         [ 72.,  32.,  43.,   0.],\n",
       "         [ 72.,  32.,  43.,   0.]]],\n",
       "\n",
       "\n",
       "       [[[179., 137., 149.,   0.],\n",
       "         [182., 140., 152.,   0.],\n",
       "         [185., 143., 155.,   0.],\n",
       "         ...,\n",
       "         [185., 138., 154.,   0.],\n",
       "         [184., 137., 153.,   0.],\n",
       "         [181., 137., 152.,   0.]],\n",
       "\n",
       "        [[185., 143., 155.,   0.],\n",
       "         [187., 145., 157.,   0.],\n",
       "         [188., 146., 158.,   0.],\n",
       "         ...,\n",
       "         [185., 138., 154.,   0.],\n",
       "         [181., 137., 152.,   0.],\n",
       "         [180., 136., 151.,   0.]],\n",
       "\n",
       "        [[190., 148., 160.,   0.],\n",
       "         [191., 149., 161.,   0.],\n",
       "         [191., 149., 161.,   0.],\n",
       "         ...,\n",
       "         [182., 138., 153.,   0.],\n",
       "         [181., 137., 152.,   0.],\n",
       "         [179., 135., 150.,   0.]],\n",
       "\n",
       "        ...,\n",
       "\n",
       "        [[188., 149., 168.,   0.],\n",
       "         [188., 149., 168.,   0.],\n",
       "         [189., 150., 169.,   0.],\n",
       "         ...,\n",
       "         [188., 151., 169.,   0.],\n",
       "         [188., 151., 169.,   0.],\n",
       "         [189., 152., 170.,   0.]],\n",
       "\n",
       "        [[187., 148., 167.,   0.],\n",
       "         [188., 149., 168.,   0.],\n",
       "         [189., 150., 169.,   0.],\n",
       "         ...,\n",
       "         [188., 151., 169.,   0.],\n",
       "         [188., 151., 169.,   0.],\n",
       "         [188., 151., 169.,   0.]],\n",
       "\n",
       "        [[186., 147., 166.,   0.],\n",
       "         [188., 149., 168.,   0.],\n",
       "         [190., 151., 170.,   0.],\n",
       "         ...,\n",
       "         [187., 150., 168.,   0.],\n",
       "         [188., 151., 169.,   0.],\n",
       "         [188., 151., 169.,   0.]]],\n",
       "\n",
       "\n",
       "       [[[141., 124., 140.,   0.],\n",
       "         [147., 129., 145.,   0.],\n",
       "         [150., 132., 148.,   0.],\n",
       "         ...,\n",
       "         [100.,  77.,  95.,   0.],\n",
       "         [ 95.,  72.,  90.,   0.],\n",
       "         [ 90.,  67.,  85.,   0.]],\n",
       "\n",
       "        [[142., 125., 141.,   0.],\n",
       "         [147., 129., 145.,   0.],\n",
       "         [150., 132., 148.,   0.],\n",
       "         ...,\n",
       "         [101.,  78.,  96.,   0.],\n",
       "         [ 96.,  73.,  91.,   0.],\n",
       "         [ 92.,  69.,  87.,   0.]],\n",
       "\n",
       "        [[146., 128., 144.,   0.],\n",
       "         [147., 129., 145.,   0.],\n",
       "         [149., 131., 147.,   0.],\n",
       "         ...,\n",
       "         [102.,  79.,  95.,   0.],\n",
       "         [ 97.,  74.,  92.,   0.],\n",
       "         [ 93.,  70.,  88.,   0.]],\n",
       "\n",
       "        ...,\n",
       "\n",
       "        [[ 31.,  20.,  34.,   0.],\n",
       "         [ 34.,  23.,  37.,   0.],\n",
       "         [ 39.,  28.,  42.,   0.],\n",
       "         ...,\n",
       "         [ 29.,  18.,  26.,   0.],\n",
       "         [ 29.,  18.,  26.,   0.],\n",
       "         [ 29.,  18.,  26.,   0.]],\n",
       "\n",
       "        [[ 28.,  17.,  31.,   0.],\n",
       "         [ 31.,  20.,  34.,   0.],\n",
       "         [ 36.,  25.,  39.,   0.],\n",
       "         ...,\n",
       "         [ 29.,  18.,  26.,   0.],\n",
       "         [ 29.,  18.,  26.,   0.],\n",
       "         [ 29.,  18.,  26.,   0.]],\n",
       "\n",
       "        [[ 24.,  16.,  29.,   0.],\n",
       "         [ 27.,  19.,  32.,   0.],\n",
       "         [ 31.,  23.,  36.,   0.],\n",
       "         ...,\n",
       "         [ 29.,  18.,  26.,   0.],\n",
       "         [ 29.,  18.,  26.,   0.],\n",
       "         [ 29.,  18.,  26.,   0.]]],\n",
       "\n",
       "\n",
       "       ...,\n",
       "\n",
       "\n",
       "       [[[187., 164., 182.,   0.],\n",
       "         [187., 164., 182.,   0.],\n",
       "         [188., 164., 180.,   0.],\n",
       "         ...,\n",
       "         [217., 196., 215.,   0.],\n",
       "         [216., 195., 214.,   0.],\n",
       "         [213., 192., 209.,   0.]],\n",
       "\n",
       "        [[190., 167., 185.,   0.],\n",
       "         [189., 166., 182.,   0.],\n",
       "         [189., 165., 181.,   0.],\n",
       "         ...,\n",
       "         [219., 198., 217.,   0.],\n",
       "         [217., 196., 215.,   0.],\n",
       "         [216., 195., 212.,   0.]],\n",
       "\n",
       "        [[194., 171., 189.,   0.],\n",
       "         [192., 169., 185.,   0.],\n",
       "         [190., 166., 182.,   0.],\n",
       "         ...,\n",
       "         [214., 193., 210.,   0.],\n",
       "         [213., 192., 211.,   0.],\n",
       "         [212., 191., 208.,   0.]],\n",
       "\n",
       "        ...,\n",
       "\n",
       "        [[182., 154., 168.,   0.],\n",
       "         [183., 155., 169.,   0.],\n",
       "         [183., 157., 170.,   0.],\n",
       "         ...,\n",
       "         [190., 157., 164.,   0.],\n",
       "         [190., 157., 164.,   0.],\n",
       "         [190., 157., 164.,   0.]],\n",
       "\n",
       "        [[181., 153., 167.,   0.],\n",
       "         [182., 154., 168.,   0.],\n",
       "         [183., 155., 169.,   0.],\n",
       "         ...,\n",
       "         [191., 158., 165.,   0.],\n",
       "         [191., 158., 165.,   0.],\n",
       "         [192., 159., 166.,   0.]],\n",
       "\n",
       "        [[182., 152., 164.,   0.],\n",
       "         [183., 153., 165.,   0.],\n",
       "         [184., 154., 166.,   0.],\n",
       "         ...,\n",
       "         [190., 157., 164.,   0.],\n",
       "         [191., 158., 165.,   0.],\n",
       "         [193., 160., 167.,   0.]]],\n",
       "\n",
       "\n",
       "       [[[ 59.,  32.,  37.,   0.],\n",
       "         [ 61.,  34.,  39.,   0.],\n",
       "         [ 64.,  38.,  41.,   0.],\n",
       "         ...,\n",
       "         [ 53.,  31.,  34.,   0.],\n",
       "         [ 49.,  26.,  32.,   0.],\n",
       "         [ 45.,  24.,  29.,   0.]],\n",
       "\n",
       "        [[ 61.,  34.,  39.,   0.],\n",
       "         [ 63.,  37.,  40.,   0.],\n",
       "         [ 67.,  38.,  42.,   0.],\n",
       "         ...,\n",
       "         [ 54.,  32.,  35.,   0.],\n",
       "         [ 51.,  28.,  34.,   0.],\n",
       "         [ 47.,  26.,  31.,   0.]],\n",
       "\n",
       "        [[ 64.,  37.,  42.,   0.],\n",
       "         [ 65.,  39.,  42.,   0.],\n",
       "         [ 69.,  40.,  44.,   0.],\n",
       "         ...,\n",
       "         [ 57.,  35.,  38.,   0.],\n",
       "         [ 53.,  31.,  34.,   0.],\n",
       "         [ 49.,  28.,  33.,   0.]],\n",
       "\n",
       "        ...,\n",
       "\n",
       "        [[101.,  62.,  63.,   0.],\n",
       "         [104.,  66.,  65.,   0.],\n",
       "         [108.,  70.,  69.,   0.],\n",
       "         ...,\n",
       "         [ 98.,  69.,  74.,   0.],\n",
       "         [ 95.,  64.,  69.,   0.],\n",
       "         [ 91.,  60.,  65.,   0.]],\n",
       "\n",
       "        [[100.,  61.,  62.,   0.],\n",
       "         [102.,  63.,  64.,   0.],\n",
       "         [106.,  68.,  67.,   0.],\n",
       "         ...,\n",
       "         [ 97.,  68.,  73.,   0.],\n",
       "         [ 94.,  63.,  69.,   0.],\n",
       "         [ 90.,  59.,  65.,   0.]],\n",
       "\n",
       "        [[ 99.,  60.,  61.,   0.],\n",
       "         [101.,  62.,  63.,   0.],\n",
       "         [104.,  65.,  66.,   0.],\n",
       "         ...,\n",
       "         [ 96.,  67.,  72.,   0.],\n",
       "         [ 92.,  63.,  68.,   0.],\n",
       "         [ 89.,  58.,  64.,   0.]]],\n",
       "\n",
       "\n",
       "       [[[210., 202., 199.,   0.],\n",
       "         [209., 201., 199.,   0.],\n",
       "         [209., 201., 199.,   0.],\n",
       "         ...,\n",
       "         [194., 185., 186.,   0.],\n",
       "         [199., 190., 191.,   0.],\n",
       "         [204., 195., 196.,   0.]],\n",
       "\n",
       "        [[209., 201., 199.,   0.],\n",
       "         [209., 201., 199.,   0.],\n",
       "         [208., 200., 198.,   0.],\n",
       "         ...,\n",
       "         [197., 188., 189.,   0.],\n",
       "         [201., 192., 193.,   0.],\n",
       "         [206., 197., 198.,   0.]],\n",
       "\n",
       "        [[207., 199., 197.,   0.],\n",
       "         [208., 200., 198.,   0.],\n",
       "         [208., 200., 198.,   0.],\n",
       "         ...,\n",
       "         [202., 193., 194.,   0.],\n",
       "         [205., 196., 197.,   0.],\n",
       "         [208., 199., 200.,   0.]],\n",
       "\n",
       "        ...,\n",
       "\n",
       "        [[210., 201., 202.,   0.],\n",
       "         [211., 202., 203.,   0.],\n",
       "         [211., 202., 203.,   0.],\n",
       "         ...,\n",
       "         [220., 209., 215.,   0.],\n",
       "         [220., 209., 215.,   0.],\n",
       "         [220., 209., 215.,   0.]],\n",
       "\n",
       "        [[210., 201., 204.,   0.],\n",
       "         [211., 202., 205.,   0.],\n",
       "         [212., 203., 206.,   0.],\n",
       "         ...,\n",
       "         [220., 209., 215.,   0.],\n",
       "         [220., 209., 215.,   0.],\n",
       "         [220., 209., 215.,   0.]],\n",
       "\n",
       "        [[211., 202., 205.,   0.],\n",
       "         [211., 202., 205.,   0.],\n",
       "         [212., 203., 206.,   0.],\n",
       "         ...,\n",
       "         [221., 208., 215.,   0.],\n",
       "         [221., 208., 215.,   0.],\n",
       "         [221., 208., 215.,   0.]]]])"
      ]
     },
     "execution_count": 45,
     "metadata": {},
     "output_type": "execute_result"
    }
   ],
   "source": [
    "x"
   ]
  },
  {
   "cell_type": "code",
   "execution_count": 32,
   "metadata": {},
   "outputs": [
    {
     "data": {
      "text/plain": [
       "(398013252,)"
      ]
     },
     "execution_count": 32,
     "metadata": {},
     "output_type": "execute_result"
    }
   ],
   "source": [
    "x.shape"
   ]
  },
  {
   "cell_type": "code",
   "execution_count": 33,
   "metadata": {},
   "outputs": [],
   "source": [
    "x=x.reshape(len(img_MEL_seg),299,299,4)"
   ]
  },
  {
   "cell_type": "code",
   "execution_count": 36,
   "metadata": {},
   "outputs": [
    {
     "data": {
      "text/plain": [
       "array([[[[ 73.,  31.,  35.,  73.],\n",
       "         [ 30.,  37.,  72.,  31.],\n",
       "         [ 37.,  71.,  30.,  36.],\n",
       "         ...,\n",
       "         [172., 219., 170., 155.],\n",
       "         [212., 160., 146., 215.],\n",
       "         [162., 148., 205., 147.]],\n",
       "\n",
       "        [[135., 208., 146., 135.],\n",
       "         [217., 151., 139., 223.],\n",
       "         [153., 141., 217., 145.],\n",
       "         ...,\n",
       "         [149., 156., 220., 152.],\n",
       "         [163., 222., 154., 169.],\n",
       "         [216., 150., 164., 215.]],\n",
       "\n",
       "        [[151., 167., 222., 160.],\n",
       "         [173., 222., 162., 172.],\n",
       "         [224., 164., 174., 227.],\n",
       "         ...,\n",
       "         [ 76.,  30.,  32.,  77.],\n",
       "         [ 31.,  33.,  77.,  31.],\n",
       "         [ 33.,  76.,  32.,  33.]],\n",
       "\n",
       "        ...,\n",
       "\n",
       "        [[202., 218., 231., 200.],\n",
       "         [216., 232., 201., 219.],\n",
       "         [233., 202., 220., 231.],\n",
       "         ...,\n",
       "         [207., 173., 189., 207.],\n",
       "         [173., 189., 204., 170.],\n",
       "         [186., 200., 166., 182.]],\n",
       "\n",
       "        [[208., 174., 190., 210.],\n",
       "         [176., 192., 212., 178.],\n",
       "         [194., 211., 177., 193.],\n",
       "         ...,\n",
       "         [225., 232., 210., 223.],\n",
       "         [231., 209., 222., 233.],\n",
       "         [211., 224., 235., 213.]],\n",
       "\n",
       "        [[226., 235., 212., 228.],\n",
       "         [234., 211., 227., 234.],\n",
       "         [211., 227., 234., 211.],\n",
       "         ...,\n",
       "         [203., 217., 231., 203.],\n",
       "         [217., 230., 202., 216.],\n",
       "         [230., 202., 216., 229.]]],\n",
       "\n",
       "\n",
       "       [[[201., 215., 229., 201.],\n",
       "         [215., 230., 202., 216.],\n",
       "         [232., 204., 218., 232.],\n",
       "         ...,\n",
       "         [212., 180., 195., 211.],\n",
       "         [179., 194., 210., 178.],\n",
       "         [193., 210., 178., 193.]],\n",
       "\n",
       "        [[209., 173., 187., 211.],\n",
       "         [175., 189., 212., 176.],\n",
       "         [190., 211., 175., 189.],\n",
       "         ...,\n",
       "         [223., 232., 211., 226.],\n",
       "         [234., 213., 228., 234.],\n",
       "         [213., 228., 235., 212.]],\n",
       "\n",
       "        [[228., 235., 212., 228.],\n",
       "         [237., 214., 230., 238.],\n",
       "         [215., 231., 237., 214.],\n",
       "         ...,\n",
       "         [199., 212., 231., 199.],\n",
       "         [214., 229., 197., 212.],\n",
       "         [228., 197., 212., 228.]],\n",
       "\n",
       "        ...,\n",
       "\n",
       "        [[175., 176., 153., 171.],\n",
       "         [177., 156., 173., 178.],\n",
       "         [157., 176., 176., 154.],\n",
       "         ...,\n",
       "         [153., 178., 176., 150.],\n",
       "         [175., 179., 151., 176.],\n",
       "         [180., 152., 177., 180.]],\n",
       "\n",
       "        [[152., 177., 187., 158.],\n",
       "         [186., 180., 151., 179.],\n",
       "         [175., 145., 173., 174.],\n",
       "         ...,\n",
       "         [142., 114., 129., 140.],\n",
       "         [112., 127., 141., 113.],\n",
       "         [128., 142., 114., 129.]],\n",
       "\n",
       "        [[153., 123., 147., 153.],\n",
       "         [123., 147., 152., 124.],\n",
       "         [147., 151., 123., 146.],\n",
       "         ...,\n",
       "         [179., 179., 154., 175.],\n",
       "         [175., 150., 171., 173.],\n",
       "         [148., 167., 171., 148.]]],\n",
       "\n",
       "\n",
       "       [[[164., 168., 145., 161.],\n",
       "         [170., 147., 163., 171.],\n",
       "         [148., 164., 169., 146.],\n",
       "         ...,\n",
       "         [155., 181., 177., 153.],\n",
       "         [179., 181., 155., 182.],\n",
       "         [182., 156., 183., 180.]],\n",
       "\n",
       "        [[154., 181., 180., 151.],\n",
       "         [179., 179., 150., 178.],\n",
       "         [180., 151., 179., 184.],\n",
       "         ...,\n",
       "         [142., 113., 131., 138.],\n",
       "         [111., 128., 137., 110.],\n",
       "         [127., 136., 109., 126.]],\n",
       "\n",
       "        [[146., 116., 140., 148.],\n",
       "         [118., 142., 144., 114.],\n",
       "         [138., 143., 113., 137.],\n",
       "         ...,\n",
       "         [175., 174., 151., 177.],\n",
       "         [176., 154., 177., 177.],\n",
       "         [155., 176., 177., 156.]],\n",
       "\n",
       "        ...,\n",
       "\n",
       "        [[128.,  85.,  78., 128.],\n",
       "         [ 85.,  78., 127.,  84.],\n",
       "         [ 77., 126.,  83.,  76.],\n",
       "         ...,\n",
       "         [142., 180., 142., 139.],\n",
       "         [181., 143., 140., 182.],\n",
       "         [144., 141., 183., 145.]],\n",
       "\n",
       "        [[142., 183., 145., 142.],\n",
       "         [182., 144., 141., 179.],\n",
       "         [144., 140., 179., 144.],\n",
       "         ...,\n",
       "         [138., 134., 172., 137.],\n",
       "         [133., 173., 138., 136.],\n",
       "         [176., 141., 139., 177.]],\n",
       "\n",
       "        [[142., 140., 175., 140.],\n",
       "         [138., 177., 142., 140.],\n",
       "         [177., 143., 141., 178.],\n",
       "         ...,\n",
       "         [102.,  66.,  66., 102.],\n",
       "         [ 66.,  66.,  98.,  62.],\n",
       "         [ 64.,  96.,  60.,  62.]]],\n",
       "\n",
       "\n",
       "       ...,\n",
       "\n",
       "\n",
       "       [[[  0.,   0.,   0.,   0.],\n",
       "         [  0.,   0.,   0.,   0.],\n",
       "         [  0.,   0.,   0.,   0.],\n",
       "         ...,\n",
       "         [  0.,   0.,   0.,   0.],\n",
       "         [  0.,   0.,   0.,   0.],\n",
       "         [  0.,   0.,   0.,   0.]],\n",
       "\n",
       "        [[  0.,   0.,   0.,   0.],\n",
       "         [  0.,   0.,   0.,   0.],\n",
       "         [  0.,   0.,   0.,   0.],\n",
       "         ...,\n",
       "         [  0.,   0.,   0.,   0.],\n",
       "         [  0.,   0.,   0.,   0.],\n",
       "         [  0.,   0.,   0.,   0.]],\n",
       "\n",
       "        [[  0.,   0.,   0.,   0.],\n",
       "         [  0.,   0.,   0.,   0.],\n",
       "         [  0.,   0.,   0.,   0.],\n",
       "         ...,\n",
       "         [  0.,   0.,   0.,   0.],\n",
       "         [  0.,   0.,   0.,   0.],\n",
       "         [  0.,   0.,   0.,   0.]],\n",
       "\n",
       "        ...,\n",
       "\n",
       "        [[  0.,   0.,   0.,   0.],\n",
       "         [  0.,   0.,   0.,   0.],\n",
       "         [  0.,   0.,   0.,   0.],\n",
       "         ...,\n",
       "         [  0.,   0.,   0.,   0.],\n",
       "         [  0.,   0.,   0.,   0.],\n",
       "         [  0.,   0.,   0.,   0.]],\n",
       "\n",
       "        [[  0.,   0.,   0.,   0.],\n",
       "         [  0.,   0.,   0.,   0.],\n",
       "         [  0.,   0.,   0.,   0.],\n",
       "         ...,\n",
       "         [  0.,   0.,   0.,   0.],\n",
       "         [  0.,   0.,   0.,   0.],\n",
       "         [  0.,   0.,   0.,   0.]],\n",
       "\n",
       "        [[  0.,   0.,   0.,   0.],\n",
       "         [  0.,   0.,   0.,   0.],\n",
       "         [  0.,   0.,   0.,   0.],\n",
       "         ...,\n",
       "         [  0.,   0.,   0.,   0.],\n",
       "         [  0.,   0.,   0.,   0.],\n",
       "         [  0.,   0.,   0.,   0.]]],\n",
       "\n",
       "\n",
       "       [[[  0.,   0.,   0.,   0.],\n",
       "         [  0.,   0.,   0.,   0.],\n",
       "         [  0.,   0.,   0.,   0.],\n",
       "         ...,\n",
       "         [  0.,   0.,   0.,   0.],\n",
       "         [  0.,   0.,   0.,   0.],\n",
       "         [  0.,   0.,   0.,   0.]],\n",
       "\n",
       "        [[  0.,   0.,   0.,   0.],\n",
       "         [  0.,   0.,   0.,   0.],\n",
       "         [  0.,   0.,   0.,   0.],\n",
       "         ...,\n",
       "         [  0.,   0.,   0.,   0.],\n",
       "         [  0.,   0.,   0.,   0.],\n",
       "         [  0.,   0.,   0.,   0.]],\n",
       "\n",
       "        [[  0.,   0.,   0.,   0.],\n",
       "         [  0.,   0.,   0.,   0.],\n",
       "         [  0.,   0.,   0.,   0.],\n",
       "         ...,\n",
       "         [  0.,   0.,   0.,   0.],\n",
       "         [  0.,   0.,   0.,   0.],\n",
       "         [  0.,   0.,   0.,   0.]],\n",
       "\n",
       "        ...,\n",
       "\n",
       "        [[  0.,   0.,   0.,   0.],\n",
       "         [  0.,   0.,   0.,   0.],\n",
       "         [  0.,   0.,   0.,   0.],\n",
       "         ...,\n",
       "         [  0.,   0.,   0.,   0.],\n",
       "         [  0.,   0.,   0.,   0.],\n",
       "         [  0.,   0.,   0.,   0.]],\n",
       "\n",
       "        [[  0.,   0.,   0.,   0.],\n",
       "         [  0.,   0.,   0.,   0.],\n",
       "         [  0.,   0.,   0.,   0.],\n",
       "         ...,\n",
       "         [  0.,   0.,   0.,   0.],\n",
       "         [  0.,   0.,   0.,   0.],\n",
       "         [  0.,   0.,   0.,   0.]],\n",
       "\n",
       "        [[  0.,   0.,   0.,   0.],\n",
       "         [  0.,   0.,   0.,   0.],\n",
       "         [  0.,   0.,   0.,   0.],\n",
       "         ...,\n",
       "         [  0.,   0.,   0.,   0.],\n",
       "         [  0.,   0.,   0.,   0.],\n",
       "         [  0.,   0.,   0.,   0.]]],\n",
       "\n",
       "\n",
       "       [[[  0.,   0.,   0.,   0.],\n",
       "         [  0.,   0.,   0.,   0.],\n",
       "         [  0.,   0.,   0.,   0.],\n",
       "         ...,\n",
       "         [  0.,   0.,   0.,   0.],\n",
       "         [  0.,   0.,   0.,   0.],\n",
       "         [  0.,   0.,   0.,   0.]],\n",
       "\n",
       "        [[  0.,   0.,   0.,   0.],\n",
       "         [  0.,   0.,   0.,   0.],\n",
       "         [  0.,   0.,   0.,   0.],\n",
       "         ...,\n",
       "         [  0.,   0.,   0.,   0.],\n",
       "         [  0.,   0.,   0.,   0.],\n",
       "         [  0.,   0.,   0.,   0.]],\n",
       "\n",
       "        [[  0.,   0.,   0.,   0.],\n",
       "         [  0.,   0.,   0.,   0.],\n",
       "         [  0.,   0.,   0.,   0.],\n",
       "         ...,\n",
       "         [  0.,   0.,   0.,   0.],\n",
       "         [  0.,   0.,   0.,   0.],\n",
       "         [  0.,   0.,   0.,   0.]],\n",
       "\n",
       "        ...,\n",
       "\n",
       "        [[  0.,   0.,   0.,   0.],\n",
       "         [  0.,   0.,   0.,   0.],\n",
       "         [  0.,   0.,   0.,   0.],\n",
       "         ...,\n",
       "         [  0.,   0.,   0.,   0.],\n",
       "         [  0.,   0.,   0.,   0.],\n",
       "         [  0.,   0.,   0.,   0.]],\n",
       "\n",
       "        [[  0.,   0.,   0.,   0.],\n",
       "         [  0.,   0.,   0.,   0.],\n",
       "         [  0.,   0.,   0.,   0.],\n",
       "         ...,\n",
       "         [  0.,   0.,   0.,   0.],\n",
       "         [  0.,   0.,   0.,   0.],\n",
       "         [  0.,   0.,   0.,   0.]],\n",
       "\n",
       "        [[  0.,   0.,   0.,   0.],\n",
       "         [  0.,   0.,   0.,   0.],\n",
       "         [  0.,   0.,   0.,   0.],\n",
       "         ...,\n",
       "         [  0.,   0.,   0.,   0.],\n",
       "         [  0.,   0.,   0.,   0.],\n",
       "         [  0.,   0.,   0.,   0.]]]])"
      ]
     },
     "execution_count": 36,
     "metadata": {},
     "output_type": "execute_result"
    }
   ],
   "source": [
    "x"
   ]
  },
  {
   "cell_type": "code",
   "execution_count": null,
   "metadata": {},
   "outputs": [],
   "source": []
  },
  {
   "cell_type": "code",
   "execution_count": 36,
   "metadata": {},
   "outputs": [
    {
     "ename": "NameError",
     "evalue": "name 'images_MEL_aug' is not defined",
     "output_type": "error",
     "traceback": [
      "\u001b[0;31m---------------------------------------------------------------------------\u001b[0m",
      "\u001b[0;31mNameError\u001b[0m                                 Traceback (most recent call last)",
      "\u001b[0;32m<ipython-input-36-5ee2f90e192d>\u001b[0m in \u001b[0;36m<module>\u001b[0;34m()\u001b[0m\n\u001b[0;32m----> 1\u001b[0;31m \u001b[0mimages_MEL_aug\u001b[0m\u001b[0;34m.\u001b[0m\u001b[0mshape\u001b[0m\u001b[0;34m\u001b[0m\u001b[0m\n\u001b[0m",
      "\u001b[0;31mNameError\u001b[0m: name 'images_MEL_aug' is not defined"
     ]
    }
   ],
   "source": [
    "images_MEL_aug.shape"
   ]
  },
  {
   "cell_type": "code",
   "execution_count": 40,
   "metadata": {},
   "outputs": [],
   "source": []
  },
  {
   "cell_type": "code",
   "execution_count": 37,
   "metadata": {},
   "outputs": [],
   "source": [
    "images_MEL_aug, gt_MEL_aug = augment(images_MEL,gt_MEL,amplify=6)\n",
    "images_BCC_aug, gt_BCC_aug = augment(images_BCC,gt_BCC, amplify=13)\n",
    "images_AKIEC_aug, gt_AKIEC_aug = augment(images_AKIEC,gt_AKIEC, amplify=20)\n",
    "images_BKL_aug, gt_BKL_aug = augment(images_BKL,gt_BKL, amplify=6)\n",
    "images_DF_aug, gt_DF_aug = augment(images_DF,gt_DF, amplify=58)\n",
    "images_VASC_aug, gt_VASC_aug = augment(images_VASC,gt_VASC, amplify=47)"
   ]
  },
  {
   "cell_type": "code",
   "execution_count": 41,
   "metadata": {},
   "outputs": [],
   "source": [
    "np.save('train_images_task3_%d_MEL_aug.npy'%IMAGE_SIZE,images_MEL_aug)\n",
    "# np.save('train_images_task3_%d_NV_aug.npy'%IMAGE_SIZE,train_images_NV)\n",
    "np.save('train_images_task3_%d_BCC_aug.npy'%IMAGE_SIZE,images_BCC_aug)\n",
    "np.save('train_images_task3_%d_AKIEC_aug.npy'%IMAGE_SIZE,images_AKIEC_aug)\n",
    "np.save('train_images_task3_%d_BKL_aug.npy'%IMAGE_SIZE,images_BKL_aug)\n",
    "np.save('train_images_task3_%d_DF_aug.npy'%IMAGE_SIZE,images_DF_aug)\n",
    "np.save('train_images_task3_%d_VASC_aug.npy'%IMAGE_SIZE,images_VASC_aug)"
   ]
  },
  {
   "cell_type": "code",
   "execution_count": 42,
   "metadata": {},
   "outputs": [],
   "source": [
    "np.save('gt_labels_Task3_%d_MEL_aug.npy'%IMAGE_SIZE,gt_MEL)\n",
    "# np.save('gt_labels_Task3_%d_NV_aug.npy'%IMAGE_SIZE,gt_NV)\n",
    "np.save('gt_labels_Task3_%d_BCC_aug.npy'%IMAGE_SIZE,gt_BCC)\n",
    "np.save('gt_labels_Task3_%d_AKIEC_aug.npy'%IMAGE_SIZE,gt_AKIEC)\n",
    "np.save('gt_labels_Task3_%d_BKL_aug.npy'%IMAGE_SIZE,gt_BKL)\n",
    "np.save('gt_labels_Task3_%d_DF_aug.npy'%IMAGE_SIZE,gt_DF)\n",
    "np.save('gt_labels_Task3_%d_VASC_aug.npy'%IMAGE_SIZE,gt_VASC)"
   ]
  },
  {
   "cell_type": "code",
   "execution_count": 43,
   "metadata": {},
   "outputs": [
    {
     "data": {
      "text/plain": [
       "(6674, 299, 299, 3)"
      ]
     },
     "execution_count": 43,
     "metadata": {},
     "output_type": "execute_result"
    }
   ],
   "source": [
    "images_VASC_aug.shape"
   ]
  },
  {
   "cell_type": "code",
   "execution_count": 60,
   "metadata": {},
   "outputs": [
    {
     "ename": "IOError",
     "evalue": "[Errno 2] No such file or directory: 'images_task3_299_MEL_aug.npy'",
     "output_type": "error",
     "traceback": [
      "\u001b[0;31m---------------------------------------------------------------------------\u001b[0m",
      "\u001b[0;31mIOError\u001b[0m                                   Traceback (most recent call last)",
      "\u001b[0;32m<ipython-input-60-538153d28c26>\u001b[0m in \u001b[0;36m<module>\u001b[0;34m()\u001b[0m\n\u001b[0;32m----> 1\u001b[0;31m \u001b[0mimages_MEL_aug\u001b[0m\u001b[0;34m=\u001b[0m\u001b[0mnp\u001b[0m\u001b[0;34m.\u001b[0m\u001b[0mload\u001b[0m\u001b[0;34m(\u001b[0m\u001b[0;34m'images_task3_%d_MEL_aug.npy'\u001b[0m\u001b[0;34m%\u001b[0m\u001b[0mIMAGE_SIZE\u001b[0m\u001b[0;34m)\u001b[0m\u001b[0;34m\u001b[0m\u001b[0m\n\u001b[0m\u001b[1;32m      2\u001b[0m \u001b[0mimages_NV_aug\u001b[0m\u001b[0;34m=\u001b[0m\u001b[0mnp\u001b[0m\u001b[0;34m.\u001b[0m\u001b[0mload\u001b[0m\u001b[0;34m(\u001b[0m\u001b[0;34m'images_task3_%d_NV.npy'\u001b[0m\u001b[0;34m%\u001b[0m\u001b[0mIMAGE_SIZE\u001b[0m\u001b[0;34m)\u001b[0m\u001b[0;34m\u001b[0m\u001b[0m\n\u001b[1;32m      3\u001b[0m \u001b[0mimages_BCC_aug\u001b[0m\u001b[0;34m=\u001b[0m\u001b[0mnp\u001b[0m\u001b[0;34m.\u001b[0m\u001b[0mload\u001b[0m\u001b[0;34m(\u001b[0m\u001b[0;34m'images_task3_%d_BCC_aug.npy'\u001b[0m\u001b[0;34m%\u001b[0m\u001b[0mIMAGE_SIZE\u001b[0m\u001b[0;34m)\u001b[0m\u001b[0;34m\u001b[0m\u001b[0m\n\u001b[1;32m      4\u001b[0m \u001b[0mimages_AKIEC_aug\u001b[0m\u001b[0;34m=\u001b[0m\u001b[0mnp\u001b[0m\u001b[0;34m.\u001b[0m\u001b[0mload\u001b[0m\u001b[0;34m(\u001b[0m\u001b[0;34m'images_task3_%d_AKIEC_aug.npy'\u001b[0m\u001b[0;34m%\u001b[0m\u001b[0mIMAGE_SIZE\u001b[0m\u001b[0;34m)\u001b[0m\u001b[0;34m\u001b[0m\u001b[0m\n\u001b[1;32m      5\u001b[0m \u001b[0mimages_BKL_aug\u001b[0m\u001b[0;34m=\u001b[0m\u001b[0mnp\u001b[0m\u001b[0;34m.\u001b[0m\u001b[0mload\u001b[0m\u001b[0;34m(\u001b[0m\u001b[0;34m'images_task3_%d_BKL_aug.npy'\u001b[0m\u001b[0;34m%\u001b[0m\u001b[0mIMAGE_SIZE\u001b[0m\u001b[0;34m)\u001b[0m\u001b[0;34m\u001b[0m\u001b[0m\n",
      "\u001b[0;32m/home/wonjae/anaconda2/lib/python2.7/site-packages/numpy/lib/npyio.pyc\u001b[0m in \u001b[0;36mload\u001b[0;34m(file, mmap_mode, allow_pickle, fix_imports, encoding)\u001b[0m\n\u001b[1;32m    370\u001b[0m     \u001b[0mown_fid\u001b[0m \u001b[0;34m=\u001b[0m \u001b[0mFalse\u001b[0m\u001b[0;34m\u001b[0m\u001b[0m\n\u001b[1;32m    371\u001b[0m     \u001b[0;32mif\u001b[0m \u001b[0misinstance\u001b[0m\u001b[0;34m(\u001b[0m\u001b[0mfile\u001b[0m\u001b[0;34m,\u001b[0m \u001b[0mbasestring\u001b[0m\u001b[0;34m)\u001b[0m\u001b[0;34m:\u001b[0m\u001b[0;34m\u001b[0m\u001b[0m\n\u001b[0;32m--> 372\u001b[0;31m         \u001b[0mfid\u001b[0m \u001b[0;34m=\u001b[0m \u001b[0mopen\u001b[0m\u001b[0;34m(\u001b[0m\u001b[0mfile\u001b[0m\u001b[0;34m,\u001b[0m \u001b[0;34m\"rb\"\u001b[0m\u001b[0;34m)\u001b[0m\u001b[0;34m\u001b[0m\u001b[0m\n\u001b[0m\u001b[1;32m    373\u001b[0m         \u001b[0mown_fid\u001b[0m \u001b[0;34m=\u001b[0m \u001b[0mTrue\u001b[0m\u001b[0;34m\u001b[0m\u001b[0m\n\u001b[1;32m    374\u001b[0m     \u001b[0;32melif\u001b[0m \u001b[0mis_pathlib_path\u001b[0m\u001b[0;34m(\u001b[0m\u001b[0mfile\u001b[0m\u001b[0;34m)\u001b[0m\u001b[0;34m:\u001b[0m\u001b[0;34m\u001b[0m\u001b[0m\n",
      "\u001b[0;31mIOError\u001b[0m: [Errno 2] No such file or directory: 'images_task3_299_MEL_aug.npy'"
     ]
    }
   ],
   "source": [
    "images_MEL_aug=np.load('images_task3_%d_MEL_aug.npy'%IMAGE_SIZE)\n",
    "images_NV_aug=np.load('images_task3_%d_NV.npy'%IMAGE_SIZE)\n",
    "images_BCC_aug=np.load('images_task3_%d_BCC_aug.npy'%IMAGE_SIZE)\n",
    "images_AKIEC_aug=np.load('images_task3_%d_AKIEC_aug.npy'%IMAGE_SIZE)\n",
    "images_BKL_aug=np.load('images_task3_%d_BKL_aug.npy'%IMAGE_SIZE)\n",
    "images_DF_aug=np.load('images_task3_%d_DF_aug.npy'%IMAGE_SIZE)\n",
    "images_VASC_aug=np.load('images_task3_%d_VASC_aug.npy'%IMAGE_SIZE)"
   ]
  },
  {
   "cell_type": "code",
   "execution_count": 45,
   "metadata": {},
   "outputs": [
    {
     "ename": "IOError",
     "evalue": "[Errno 2] No such file or directory: 'gt_labels_Task3_299_NV.npy'",
     "output_type": "error",
     "traceback": [
      "\u001b[0;31m---------------------------------------------------------------------------\u001b[0m",
      "\u001b[0;31mIOError\u001b[0m                                   Traceback (most recent call last)",
      "\u001b[0;32m<ipython-input-45-3424018fd314>\u001b[0m in \u001b[0;36m<module>\u001b[0;34m()\u001b[0m\n\u001b[1;32m      1\u001b[0m \u001b[0mgt_MEL\u001b[0m\u001b[0;34m=\u001b[0m\u001b[0mnp\u001b[0m\u001b[0;34m.\u001b[0m\u001b[0mload\u001b[0m\u001b[0;34m(\u001b[0m\u001b[0;34m'gt_labels_Task3_%d_MEL_aug.npy'\u001b[0m\u001b[0;34m%\u001b[0m\u001b[0mIMAGE_SIZE\u001b[0m\u001b[0;34m)\u001b[0m\u001b[0;34m\u001b[0m\u001b[0m\n\u001b[0;32m----> 2\u001b[0;31m \u001b[0mgt_NV\u001b[0m\u001b[0;34m=\u001b[0m\u001b[0mnp\u001b[0m\u001b[0;34m.\u001b[0m\u001b[0mload\u001b[0m\u001b[0;34m(\u001b[0m\u001b[0;34m'gt_labels_Task3_%d_NV.npy'\u001b[0m\u001b[0;34m%\u001b[0m\u001b[0mIMAGE_SIZE\u001b[0m\u001b[0;34m)\u001b[0m\u001b[0;34m\u001b[0m\u001b[0m\n\u001b[0m\u001b[1;32m      3\u001b[0m \u001b[0mgt_BCC\u001b[0m\u001b[0;34m=\u001b[0m\u001b[0mnp\u001b[0m\u001b[0;34m.\u001b[0m\u001b[0mload\u001b[0m\u001b[0;34m(\u001b[0m\u001b[0;34m'gt_labels_Task3_%d_BCC_aug.npy'\u001b[0m\u001b[0;34m%\u001b[0m\u001b[0mIMAGE_SIZE\u001b[0m\u001b[0;34m)\u001b[0m\u001b[0;34m\u001b[0m\u001b[0m\n\u001b[1;32m      4\u001b[0m \u001b[0mgt_AKIEC\u001b[0m\u001b[0;34m=\u001b[0m\u001b[0mnp\u001b[0m\u001b[0;34m.\u001b[0m\u001b[0mload\u001b[0m\u001b[0;34m(\u001b[0m\u001b[0;34m'gt_labels_Task3_%d_AKIEC_aug.npy'\u001b[0m\u001b[0;34m%\u001b[0m\u001b[0mIMAGE_SIZE\u001b[0m\u001b[0;34m)\u001b[0m\u001b[0;34m\u001b[0m\u001b[0m\n\u001b[1;32m      5\u001b[0m \u001b[0mgt_BKL\u001b[0m\u001b[0;34m=\u001b[0m\u001b[0mnp\u001b[0m\u001b[0;34m.\u001b[0m\u001b[0mload\u001b[0m\u001b[0;34m(\u001b[0m\u001b[0;34m'gt_labels_Task3_%d_BKL_aug.npy'\u001b[0m\u001b[0;34m%\u001b[0m\u001b[0mIMAGE_SIZE\u001b[0m\u001b[0;34m)\u001b[0m\u001b[0;34m\u001b[0m\u001b[0m\n",
      "\u001b[0;32m/home/wonjae/anaconda2/lib/python2.7/site-packages/numpy/lib/npyio.pyc\u001b[0m in \u001b[0;36mload\u001b[0;34m(file, mmap_mode, allow_pickle, fix_imports, encoding)\u001b[0m\n\u001b[1;32m    370\u001b[0m     \u001b[0mown_fid\u001b[0m \u001b[0;34m=\u001b[0m \u001b[0mFalse\u001b[0m\u001b[0;34m\u001b[0m\u001b[0m\n\u001b[1;32m    371\u001b[0m     \u001b[0;32mif\u001b[0m \u001b[0misinstance\u001b[0m\u001b[0;34m(\u001b[0m\u001b[0mfile\u001b[0m\u001b[0;34m,\u001b[0m \u001b[0mbasestring\u001b[0m\u001b[0;34m)\u001b[0m\u001b[0;34m:\u001b[0m\u001b[0;34m\u001b[0m\u001b[0m\n\u001b[0;32m--> 372\u001b[0;31m         \u001b[0mfid\u001b[0m \u001b[0;34m=\u001b[0m \u001b[0mopen\u001b[0m\u001b[0;34m(\u001b[0m\u001b[0mfile\u001b[0m\u001b[0;34m,\u001b[0m \u001b[0;34m\"rb\"\u001b[0m\u001b[0;34m)\u001b[0m\u001b[0;34m\u001b[0m\u001b[0m\n\u001b[0m\u001b[1;32m    373\u001b[0m         \u001b[0mown_fid\u001b[0m \u001b[0;34m=\u001b[0m \u001b[0mTrue\u001b[0m\u001b[0;34m\u001b[0m\u001b[0m\n\u001b[1;32m    374\u001b[0m     \u001b[0;32melif\u001b[0m \u001b[0mis_pathlib_path\u001b[0m\u001b[0;34m(\u001b[0m\u001b[0mfile\u001b[0m\u001b[0;34m)\u001b[0m\u001b[0;34m:\u001b[0m\u001b[0;34m\u001b[0m\u001b[0m\n",
      "\u001b[0;31mIOError\u001b[0m: [Errno 2] No such file or directory: 'gt_labels_Task3_299_NV.npy'"
     ]
    }
   ],
   "source": [
    "gt_MEL=np.load('gt_labels_Task3_%d_MEL_aug.npy'%IMAGE_SIZE)\n",
    "gt_NV=np.load('gt_labels_Task3_%d_NV.npy'%IMAGE_SIZE)\n",
    "gt_BCC=np.load('gt_labels_Task3_%d_BCC_aug.npy'%IMAGE_SIZE)\n",
    "gt_AKIEC=np.load('gt_labels_Task3_%d_AKIEC_aug.npy'%IMAGE_SIZE)\n",
    "gt_BKL=np.load('gt_labels_Task3_%d_BKL_aug.npy'%IMAGE_SIZE)\n",
    "gt_DF=np.load('gt_labels_Task3_%d_DF_aug.npy'%IMAGE_SIZE)\n",
    "gt_VASC=np.load('gt_labels_Task3_%d_VASC_aug.npy'%IMAGE_SIZE)"
   ]
  },
  {
   "cell_type": "code",
   "execution_count": 46,
   "metadata": {},
   "outputs": [
    {
     "name": "stdout",
     "output_type": "stream",
     "text": [
      "(1113, 7)\n",
      "(6705, 7)\n",
      "(514, 7)\n",
      "(327, 7)\n",
      "(1099, 7)\n",
      "(115, 7)\n",
      "(142, 7)\n"
     ]
    }
   ],
   "source": [
    "print gt_MEL.shape\n",
    "print gt_NV.shape\n",
    "print gt_BCC.shape\n",
    "print gt_AKIEC.shape\n",
    "print gt_BKL.shape\n",
    "print gt_DF.shape\n",
    "print gt_VASC.shape"
   ]
  },
  {
   "cell_type": "code",
   "execution_count": 16,
   "metadata": {},
   "outputs": [
    {
     "data": {
      "text/plain": [
       "array([[0., 1., 0., ..., 0., 0., 0.],\n",
       "       [0., 1., 0., ..., 0., 0., 0.],\n",
       "       [0., 1., 0., ..., 0., 0., 0.],\n",
       "       ...,\n",
       "       [0., 1., 0., ..., 0., 0., 0.],\n",
       "       [0., 1., 0., ..., 0., 0., 0.],\n",
       "       [0., 1., 0., ..., 0., 0., 0.]])"
      ]
     },
     "execution_count": 16,
     "metadata": {},
     "output_type": "execute_result"
    }
   ],
   "source": [
    "gt_NV"
   ]
  },
  {
   "cell_type": "code",
   "execution_count": 15,
   "metadata": {},
   "outputs": [
    {
     "data": {
      "text/plain": [
       "array([1., 0., 0., ..., 0., 0., 0.])"
      ]
     },
     "execution_count": 15,
     "metadata": {},
     "output_type": "execute_result"
    }
   ],
   "source": [
    "gt_MEL"
   ]
  },
  {
   "cell_type": "code",
   "execution_count": 17,
   "metadata": {},
   "outputs": [
    {
     "data": {
      "text/plain": [
       "array([[0., 0., 1., ..., 0., 0., 0.],\n",
       "       [0., 0., 1., ..., 0., 0., 0.],\n",
       "       [0., 0., 1., ..., 0., 0., 0.],\n",
       "       ...,\n",
       "       [0., 0., 1., ..., 0., 0., 0.],\n",
       "       [0., 0., 1., ..., 0., 0., 0.],\n",
       "       [0., 0., 1., ..., 0., 0., 0.]])"
      ]
     },
     "execution_count": 17,
     "metadata": {},
     "output_type": "execute_result"
    }
   ],
   "source": [
    "gt_BCC"
   ]
  },
  {
   "cell_type": "code",
   "execution_count": 11,
   "metadata": {},
   "outputs": [
    {
     "ename": "TypeError",
     "evalue": "reshape() takes exactly 1 argument (0 given)",
     "output_type": "error",
     "traceback": [
      "\u001b[0;31m---------------------------------------------------------------------------\u001b[0m",
      "\u001b[0;31mTypeError\u001b[0m                                 Traceback (most recent call last)",
      "\u001b[0;32m<ipython-input-11-38402958fb19>\u001b[0m in \u001b[0;36m<module>\u001b[0;34m()\u001b[0m\n\u001b[0;32m----> 1\u001b[0;31m \u001b[0mgt_NV\u001b[0m\u001b[0;34m.\u001b[0m\u001b[0mreshape\u001b[0m\u001b[0;34m(\u001b[0m\u001b[0;34m)\u001b[0m\u001b[0;34m\u001b[0m\u001b[0m\n\u001b[0m",
      "\u001b[0;31mTypeError\u001b[0m: reshape() takes exactly 1 argument (0 given)"
     ]
    }
   ],
   "source": [
    "gt_NV.reshape()"
   ]
  },
  {
   "cell_type": "code",
   "execution_count": 47,
   "metadata": {},
   "outputs": [],
   "source": [
    "x=np.array([])"
   ]
  },
  {
   "cell_type": "code",
   "execution_count": 48,
   "metadata": {},
   "outputs": [],
   "source": [
    "for i in range(6):\n",
    "    x=np.append(x,gt_MEL)\n",
    "    \n",
    "del gt_MEL"
   ]
  },
  {
   "cell_type": "code",
   "execution_count": 49,
   "metadata": {},
   "outputs": [],
   "source": [
    "x=np.append(x,gt_NV)\n",
    "del gt_NV"
   ]
  },
  {
   "cell_type": "code",
   "execution_count": 50,
   "metadata": {},
   "outputs": [],
   "source": [
    "for i in range(13):\n",
    "    x=np.append(x,gt_BCC)\n",
    "    \n",
    "del gt_BCC"
   ]
  },
  {
   "cell_type": "code",
   "execution_count": 51,
   "metadata": {},
   "outputs": [],
   "source": [
    "for i in range(20):\n",
    "    x=np.append(x,gt_AKIEC)\n",
    "    \n",
    "del gt_AKIEC\n"
   ]
  },
  {
   "cell_type": "code",
   "execution_count": 52,
   "metadata": {},
   "outputs": [],
   "source": [
    "for i in range(6):\n",
    "    x=np.append(x,gt_BKL)\n",
    "    \n",
    "del gt_BKL"
   ]
  },
  {
   "cell_type": "code",
   "execution_count": 53,
   "metadata": {},
   "outputs": [],
   "source": [
    "for i in range(58):\n",
    "    x=np.append(x,gt_DF)\n",
    "del gt_DF"
   ]
  },
  {
   "cell_type": "code",
   "execution_count": 54,
   "metadata": {},
   "outputs": [],
   "source": [
    "for i in range(47):\n",
    "    x=np.append(x,gt_VASC)\n",
    "del gt_VASC"
   ]
  },
  {
   "cell_type": "code",
   "execution_count": 55,
   "metadata": {},
   "outputs": [],
   "source": [
    "x=x.reshape((46543,7))"
   ]
  },
  {
   "cell_type": "code",
   "execution_count": 56,
   "metadata": {},
   "outputs": [
    {
     "data": {
      "text/plain": [
       "(46543, 7)"
      ]
     },
     "execution_count": 56,
     "metadata": {},
     "output_type": "execute_result"
    }
   ],
   "source": [
    "x.shape"
   ]
  },
  {
   "cell_type": "code",
   "execution_count": 57,
   "metadata": {},
   "outputs": [],
   "source": [
    "np.save('gt_task3_%d_aug.npy'%IMAGE_SIZE,x)"
   ]
  },
  {
   "cell_type": "code",
   "execution_count": 32,
   "metadata": {},
   "outputs": [
    {
     "name": "stdout",
     "output_type": "stream",
     "text": [
      "(6678, 299, 299, 4)\n",
      "(6705, 299, 299, 4)\n",
      "(6682, 299, 299, 4)\n",
      "(6540, 299, 299, 4)\n",
      "(6594, 299, 299, 4)\n",
      "(6670, 299, 299, 4)\n",
      "(6674, 299, 299, 4)\n"
     ]
    }
   ],
   "source": [
    "print(img_MEL_seg_reshape_merge_aug.shape)\n",
    "print(img_NV_seg_reshape_merge.shape)\n",
    "print(img_BCC_seg_reshape_merge_aug.shape)\n",
    "print(img_AKIEC_seg_reshape_merge_aug.shape)\n",
    "print(img_BKL_seg_reshape_merge_aug.shape)\n",
    "print(img_DF_seg_reshape_merge_aug.shape)\n",
    "print(img_VASC_seg_reshape_merge_aug.shape)"
   ]
  },
  {
   "cell_type": "code",
   "execution_count": 44,
   "metadata": {},
   "outputs": [],
   "source": [
    "np.save('/data01/syh/ISIC2018/train_images_task3_%d_MEL_seg_aug.npy'%IMAGE_SIZE,img_MEL_seg_reshape_merge_aug)\n",
    "np.save('/data01/syh/ISIC2018/train_images_task3_%d_NV_aug.npy'%IMAGE_SIZE,img_NV_seg_reshape_merge)\n",
    "np.save('/data01/syh/ISIC2018/train_images_task3_%d_BCC_seg_aug.npy'%IMAGE_SIZE,img_BCC_seg_reshape_merge_aug)\n",
    "np.save('/data01/syh/ISIC2018/train_images_task3_%d_AKIEC_seg_aug.npy'%IMAGE_SIZE,img_AKIEC_seg_reshape_merge_aug)\n",
    "np.save('/data01/syh/ISIC2018/train_images_task3_%d_BKL_seg_aug.npy'%IMAGE_SIZE,img_BKL_seg_reshape_merge_aug)\n",
    "np.save('/data01/syh/ISIC2018/train_images_task3_%d_DF_seg_aug.npy'%IMAGE_SIZE,img_DF_seg_reshape_merge_aug)\n",
    "np.save('/data01/syh/ISIC2018/train_images_task3_%d_VASC_seg_aug.npy'%IMAGE_SIZE,img_VASC_seg_reshape_merge_aug)"
   ]
  },
  {
   "cell_type": "code",
   "execution_count": 42,
   "metadata": {},
   "outputs": [
    {
     "name": "stdout",
     "output_type": "stream",
     "text": [
      "········\n"
     ]
    },
    {
     "data": {
      "text/plain": [
       "256"
      ]
     },
     "execution_count": 42,
     "metadata": {},
     "output_type": "execute_result"
    }
   ],
   "source": [
    " import getpass\n",
    " import os\n",
    "\n",
    " password = getpass.getpass()\n",
    " command = \"sudo -S apt-get update\" #can be any command but don't forget -S as it enables input from stdin\n",
    " os.system('echo %s | %s' % (password, command))"
   ]
  },
  {
   "cell_type": "code",
   "execution_count": 40,
   "metadata": {},
   "outputs": [
    {
     "data": {
      "text/plain": [
       "(6670, 299, 299, 4)"
      ]
     },
     "execution_count": 40,
     "metadata": {},
     "output_type": "execute_result"
    }
   ],
   "source": [
    "img_DF_seg_reshape_merge_aug.shape"
   ]
  },
  {
   "cell_type": "code",
   "execution_count": null,
   "metadata": {},
   "outputs": [],
   "source": [
    "np.save('train_images_task3_%d_NV_aug.npy'%IMAGE_SIZE,img_NV_seg_reshape_merge)\n",
    "np.save('train_images_task3_%d_BCC_seg_aug.npy'%IMAGE_SIZE,img_BCC_seg_reshape_merge_aug)\n",
    "np.save('train_images_task3_%d_AKIEC_seg_aug.npy'%IMAGE_SIZE,img_AKIEC_seg_reshape_merge_aug)\n",
    "np.save('train_images_task3_%d_BKL_seg_aug.npy'%IMAGE_SIZE,img_BKL_seg_reshape_merge_aug)\n",
    "np.save('train_images_task3_%d_DF_seg_aug.npy'%IMAGE_SIZE,img_DF_seg_reshape_merge_aug)\n",
    "np.save('train_images_task3_%d_VASC_seg_aug.npy'%IMAGE_SIZE,img_VASC_seg_reshape_merge_aug)"
   ]
  },
  {
   "cell_type": "code",
   "execution_count": 80,
   "metadata": {},
   "outputs": [
    {
     "ename": "MemoryError",
     "evalue": "",
     "output_type": "error",
     "traceback": [
      "\u001b[0;31m---------------------------------------------------------------------------\u001b[0m",
      "\u001b[0;31mMemoryError\u001b[0m                               Traceback (most recent call last)",
      "\u001b[0;32m<ipython-input-80-0b6d3fee8e5d>\u001b[0m in \u001b[0;36m<module>\u001b[0;34m()\u001b[0m\n\u001b[0;32m----> 1\u001b[0;31m \u001b[0mimg_VASC_seg_reshape_merge_aug\u001b[0m\u001b[0;34m=\u001b[0m\u001b[0mimg_VASC_seg_reshape_merge_aug\u001b[0m\u001b[0;34m.\u001b[0m\u001b[0mastype\u001b[0m\u001b[0;34m(\u001b[0m\u001b[0mint\u001b[0m\u001b[0;34m)\u001b[0m\u001b[0;34m\u001b[0m\u001b[0m\n\u001b[0m\u001b[1;32m      2\u001b[0m \u001b[0;34m\u001b[0m\u001b[0m\n",
      "\u001b[0;31mMemoryError\u001b[0m: "
     ]
    }
   ],
   "source": [
    "img_VASC_seg_reshape_merge_aug=img_VASC_seg_reshape_merge_aug.astype(int)\n",
    "                                                                     "
   ]
  },
  {
   "cell_type": "code",
   "execution_count": 37,
   "metadata": {},
   "outputs": [],
   "source": [
    "y=np.array([])"
   ]
  },
  {
   "cell_type": "code",
   "execution_count": 38,
   "metadata": {},
   "outputs": [],
   "source": [
    "y=np.append(img_MEL_seg_reshape_merge_aug,img_NV_seg_reshape_merge)"
   ]
  },
  {
   "cell_type": "code",
   "execution_count": 39,
   "metadata": {},
   "outputs": [],
   "source": [
    "y=np.append(y,img_BCC_seg_reshape_merge_aug)"
   ]
  },
  {
   "cell_type": "code",
   "execution_count": 43,
   "metadata": {},
   "outputs": [],
   "source": [
    "y=np.append(y,img_AKIEC_seg_reshape_merge_aug)"
   ]
  },
  {
   "cell_type": "code",
   "execution_count": 44,
   "metadata": {},
   "outputs": [],
   "source": [
    "y=np.append(y,img_BKL_seg_reshape_merge_aug)"
   ]
  },
  {
   "cell_type": "code",
   "execution_count": null,
   "metadata": {},
   "outputs": [],
   "source": [
    "y=np.append(y,img_DF_seg_reshape_merge_aug)"
   ]
  },
  {
   "cell_type": "code",
   "execution_count": null,
   "metadata": {},
   "outputs": [],
   "source": [
    "y=np.append(y,img_VASC_seg_reshape_merge_aug)"
   ]
  },
  {
   "cell_type": "code",
   "execution_count": 77,
   "metadata": {},
   "outputs": [],
   "source": [
    "tot=images_MEL_aug.shape[0]+images_NV.shape[0]+images_BCC_aug.shape[0]+images_AKIEC_aug.shape[0]+images_BKL_aug.shape[0]+images_DF_aug.shape[0]+images_VASC_aug.shape[0]"
   ]
  },
  {
   "cell_type": "code",
   "execution_count": null,
   "metadata": {},
   "outputs": [],
   "source": [
    "tot_seg_aug=img_MEL_seg_reshape_merge_aug.shape[0]+img_NV_seg_reshape_merge.shape[0]+img_BCC_seg_reshape_merge_aug.shape[0]+img_AKIEC_seg_reshape_merge_aug.shape[0]+img_BKL_seg_reshape_merge_aug.shape[0]+img_DF_seg_reshape_merge_aug.shape[0]+img_VASC_seg_reshape_merge_aug.shape[0]"
   ]
  },
  {
   "cell_type": "code",
   "execution_count": null,
   "metadata": {},
   "outputs": [],
   "source": [
    "y=y.reshape((46543,299,299,3))"
   ]
  },
  {
   "cell_type": "code",
   "execution_count": 78,
   "metadata": {},
   "outputs": [
    {
     "data": {
      "text/plain": [
       "46543"
      ]
     },
     "execution_count": 78,
     "metadata": {},
     "output_type": "execute_result"
    }
   ],
   "source": [
    "tot"
   ]
  },
  {
   "cell_type": "code",
   "execution_count": 62,
   "metadata": {},
   "outputs": [],
   "source": [
    "x=np.append(gt_MEL,gt_NV)"
   ]
  },
  {
   "cell_type": "code",
   "execution_count": 63,
   "metadata": {},
   "outputs": [],
   "source": [
    "x=np.append(x,gt_BCC)"
   ]
  },
  {
   "cell_type": "code",
   "execution_count": 64,
   "metadata": {},
   "outputs": [],
   "source": [
    "x=np.append(x,gt_AKIEC)"
   ]
  },
  {
   "cell_type": "code",
   "execution_count": 65,
   "metadata": {},
   "outputs": [],
   "source": [
    "x=np.append(x,gt_BKL)"
   ]
  },
  {
   "cell_type": "code",
   "execution_count": 66,
   "metadata": {},
   "outputs": [],
   "source": [
    "x=np.append(x,gt_DF)"
   ]
  },
  {
   "cell_type": "code",
   "execution_count": 67,
   "metadata": {},
   "outputs": [],
   "source": [
    "x=np.append(x,gt_VASC)"
   ]
  },
  {
   "cell_type": "code",
   "execution_count": 68,
   "metadata": {},
   "outputs": [
    {
     "ename": "ValueError",
     "evalue": "cannot reshape array of size 70105 into shape (46543,3)",
     "output_type": "error",
     "traceback": [
      "\u001b[0;31m---------------------------------------------------------------------------\u001b[0m",
      "\u001b[0;31mValueError\u001b[0m                                Traceback (most recent call last)",
      "\u001b[0;32m<ipython-input-68-2b8659247811>\u001b[0m in \u001b[0;36m<module>\u001b[0;34m()\u001b[0m\n\u001b[0;32m----> 1\u001b[0;31m \u001b[0mx\u001b[0m\u001b[0;34m=\u001b[0m\u001b[0mx\u001b[0m\u001b[0;34m.\u001b[0m\u001b[0mreshape\u001b[0m\u001b[0;34m(\u001b[0m\u001b[0;34m(\u001b[0m\u001b[0;36m46543\u001b[0m\u001b[0;34m,\u001b[0m\u001b[0;36m3\u001b[0m\u001b[0;34m)\u001b[0m\u001b[0;34m)\u001b[0m\u001b[0;34m\u001b[0m\u001b[0m\n\u001b[0m",
      "\u001b[0;31mValueError\u001b[0m: cannot reshape array of size 70105 into shape (46543,3)"
     ]
    }
   ],
   "source": [
    "x=x.reshape((46543,3))"
   ]
  },
  {
   "cell_type": "code",
   "execution_count": 58,
   "metadata": {},
   "outputs": [
    {
     "data": {
      "text/plain": [
       "(46543, 299, 299, 3)"
      ]
     },
     "execution_count": 58,
     "metadata": {},
     "output_type": "execute_result"
    }
   ],
   "source": [
    "x.shape"
   ]
  },
  {
   "cell_type": "code",
   "execution_count": 60,
   "metadata": {},
   "outputs": [
    {
     "data": {
      "image/png": "[encoded data removed]",
      "text/plain": [
       "<Figure size 432x288 with 1 Axes>"
      ]
     },
     "metadata": {},
     "output_type": "display_data"
    }
   ],
   "source": [
    "plt.imshow(x[46542], cmap = \"gray\")\n",
    "plt.show()"
   ]
  },
  {
   "cell_type": "code",
   "execution_count": 79,
   "metadata": {},
   "outputs": [],
   "source": [
    "np.save('train_images_task3_%d_aug.npy'%IMAGE_SIZE,y)"
   ]
  },
  {
   "cell_type": "code",
   "execution_count": null,
   "metadata": {},
   "outputs": [],
   "source": []
  },
  {
   "cell_type": "code",
   "execution_count": 6,
   "metadata": {},
   "outputs": [],
   "source": [
    "import os"
   ]
  },
  {
   "cell_type": "code",
   "execution_count": 48,
   "metadata": {},
   "outputs": [
    {
     "data": {
      "text/plain": [
       "'/home/wonjae/YongHyeok/Classification_TASK3/Pre-Processing'"
      ]
     },
     "execution_count": 48,
     "metadata": {},
     "output_type": "execute_result"
    }
   ],
   "source": [
    "os.getcwd()"
   ]
  },
  {
   "cell_type": "code",
   "execution_count": 85,
   "metadata": {},
   "outputs": [],
   "source": [
    " # randomization.\n",
    "\n",
    "randomized_indices = np.random.choice(data_size,data_size,replace=False)"
   ]
  },
  {
   "cell_type": "code",
   "execution_count": 86,
   "metadata": {},
   "outputs": [],
   "source": [
    "randomized_images=y[randomized_indices,:,:]"
   ]
  },
  {
   "cell_type": "code",
   "execution_count": 87,
   "metadata": {},
   "outputs": [],
   "source": [
    "randomized_labels = x[randomized_indices]"
   ]
  },
  {
   "cell_type": "code",
   "execution_count": 88,
   "metadata": {},
   "outputs": [
    {
     "data": {
      "text/plain": [
       "(46543, 7)"
      ]
     },
     "execution_count": 88,
     "metadata": {},
     "output_type": "execute_result"
    }
   ],
   "source": [
    "randomized_labels.shape"
   ]
  },
  {
   "cell_type": "code",
   "execution_count": 89,
   "metadata": {},
   "outputs": [
    {
     "data": {
      "text/plain": [
       "(46543, 299, 299, 3)"
      ]
     },
     "execution_count": 89,
     "metadata": {},
     "output_type": "execute_result"
    }
   ],
   "source": [
    "randomized_images.shape"
   ]
  },
  {
   "cell_type": "code",
   "execution_count": 90,
   "metadata": {},
   "outputs": [],
   "source": [
    "kkk=np.array([0,1,2,3,4])"
   ]
  },
  {
   "cell_type": "code",
   "execution_count": 91,
   "metadata": {},
   "outputs": [
    {
     "data": {
      "text/plain": [
       "array([0, 1])"
      ]
     },
     "execution_count": 91,
     "metadata": {},
     "output_type": "execute_result"
    }
   ],
   "source": [
    "kkk[:2] # 두번째까지"
   ]
  },
  {
   "cell_type": "code",
   "execution_count": 92,
   "metadata": {},
   "outputs": [
    {
     "data": {
      "text/plain": [
       "array([2, 3, 4])"
      ]
     },
     "execution_count": 92,
     "metadata": {},
     "output_type": "execute_result"
    }
   ],
   "source": [
    "kkk[2:] # 두번째 '뒤에' 부터"
   ]
  },
  {
   "cell_type": "code",
   "execution_count": null,
   "metadata": {},
   "outputs": [],
   "source": []
  },
  {
   "cell_type": "code",
   "execution_count": 94,
   "metadata": {},
   "outputs": [],
   "source": [
    "np.save('train_images_task3_%d_aug_ran_1o2.npy',randomized_images[:46543/2])\n",
    "np.save('train_images_task3_%d_aug_ran_2o2.npy',randomized_images[46543/2:])\n",
    "np.save('gt_task3_299_aug_ran_1o2.npy',randomized_labels[:46543/2])\n",
    "np.save('gt_task3_299_aug_ran_2o2.npy',randomized_labels[46543/2:])"
   ]
  },
  {
   "cell_type": "code",
   "execution_count": null,
   "metadata": {},
   "outputs": [],
   "source": []
  }
 ],
 "metadata": {
  "kernelspec": {
   "display_name": "Python 2",
   "language": "python",
   "name": "python2"
  },
  "language_info": {
   "codemirror_mode": {
    "name": "ipython",
    "version": 2
   },
   "file_extension": ".py",
   "mimetype": "text/x-python",
   "name": "python",
   "nbconvert_exporter": "python",
   "pygments_lexer": "ipython2",
   "version": "2.7.15"
  }
 },
 "nbformat": 4,
 "nbformat_minor": 2
}
